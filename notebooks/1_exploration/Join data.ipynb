{
 "cells": [
  {
   "cell_type": "code",
   "execution_count": 1,
   "id": "raised-tower",
   "metadata": {},
   "outputs": [],
   "source": [
    "import yellowcab\n",
    "import pandas as pd\n",
    "import numpy as np\n",
    "import geopandas as gpd\n",
    "import matplotlib.pyplot as plt\n",
    "\n",
    "# pd.set_option('display.max_columns', 200)\n",
    "# pd.set_option('display.max_rows', 100)\n",
    "# pd.set_option('display.min_rows', 100)\n",
    "# pd.set_option('display.expand_frame_repr', True)"
   ]
  },
  {
   "cell_type": "code",
   "execution_count": 2,
   "id": "spectacular-maximum",
   "metadata": {},
   "outputs": [],
   "source": [
    "trip_data = yellowcab.io.read_all_files('parquet', raw=True)"
   ]
  },
  {
   "cell_type": "code",
   "execution_count": 3,
   "id": "c1e7d4b2",
   "metadata": {},
   "outputs": [],
   "source": [
    "trip_data = trip_data[[\"PULocationID\", \"DOLocationID\"]]"
   ]
  },
  {
   "cell_type": "code",
   "execution_count": 4,
   "id": "251bc2d7",
   "metadata": {},
   "outputs": [],
   "source": [
    "trip_data = trip_data[(trip_data[\"PULocationID\"] < 264) & (trip_data[\"DOLocationID\"] < 264)]"
   ]
  },
  {
   "cell_type": "code",
   "execution_count": 5,
   "id": "5342796d",
   "metadata": {},
   "outputs": [
    {
     "data": {
      "text/plain": [
       "23572565"
      ]
     },
     "execution_count": 5,
     "metadata": {},
     "output_type": "execute_result"
    }
   ],
   "source": [
    "len(trip_data)"
   ]
  },
  {
   "cell_type": "code",
   "execution_count": 6,
   "id": "proved-brick",
   "metadata": {
    "scrolled": true
   },
   "outputs": [
    {
     "name": "stderr",
     "output_type": "stream",
     "text": [
      "d:\\git\\pds_brooklyn\\yellowcab\\io\\utils.py:52: UserWarning: Geometry is in a geographic CRS. Results from 'centroid' are likely incorrect. Use 'GeoSeries.to_crs()' to re-project geometries to a projected CRS before this operation.\n",
      "\n",
      "  geo_data[\"longitude\"] = gdf.centroid.x\n",
      "d:\\git\\pds_brooklyn\\yellowcab\\io\\utils.py:53: UserWarning: Geometry is in a geographic CRS. Results from 'centroid' are likely incorrect. Use 'GeoSeries.to_crs()' to re-project geometries to a projected CRS before this operation.\n",
      "\n",
      "  geo_data[\"latitude\"] = gdf.centroid.y\n"
     ]
    },
    {
     "name": "stdout",
     "output_type": "stream",
     "text": [
      "Trips with location_id above 263 were dropped, since there is no matching geo data.\n",
      "23572565\n",
      "23572565\n",
      "23572565\n",
      "23572565\n"
     ]
    }
   ],
   "source": [
    "geo_data = yellowcab.io.add_location(trip_data[[\"PULocationID\", \"DOLocationID\"]])"
   ]
  },
  {
   "cell_type": "code",
   "execution_count": 7,
   "id": "55f2101f",
   "metadata": {},
   "outputs": [
    {
     "data": {
      "text/plain": [
       "23572565"
      ]
     },
     "execution_count": 7,
     "metadata": {},
     "output_type": "execute_result"
    }
   ],
   "source": [
    "len(geo_data)"
   ]
  },
  {
   "cell_type": "code",
   "execution_count": 8,
   "id": "5ab65472",
   "metadata": {},
   "outputs": [],
   "source": [
    "faulty_ids = trip_data[(trip_data[\"PULocationID\"] == 57) | (trip_data[\"DOLocationID\"] == 57) |\n",
    "         (trip_data[\"PULocationID\"] == 103) | (trip_data[\"DOLocationID\"] == 103) |\n",
    "         (trip_data[\"PULocationID\"] == 104) | (trip_data[\"DOLocationID\"] == 104)]"
   ]
  },
  {
   "cell_type": "code",
   "execution_count": 9,
   "id": "6543b9da",
   "metadata": {},
   "outputs": [
    {
     "data": {
      "text/plain": [
       "674"
      ]
     },
     "execution_count": 9,
     "metadata": {},
     "output_type": "execute_result"
    }
   ],
   "source": [
    "len(faulty_ids)"
   ]
  },
  {
   "cell_type": "code",
   "execution_count": 10,
   "id": "7a181da5",
   "metadata": {},
   "outputs": [
    {
     "data": {
      "text/html": [
       "<div>\n",
       "<style scoped>\n",
       "    .dataframe tbody tr th:only-of-type {\n",
       "        vertical-align: middle;\n",
       "    }\n",
       "\n",
       "    .dataframe tbody tr th {\n",
       "        vertical-align: top;\n",
       "    }\n",
       "\n",
       "    .dataframe thead th {\n",
       "        text-align: right;\n",
       "    }\n",
       "</style>\n",
       "<table border=\"1\" class=\"dataframe\">\n",
       "  <thead>\n",
       "    <tr style=\"text-align: right;\">\n",
       "      <th></th>\n",
       "      <th>PULocationID</th>\n",
       "      <th>DOLocationID</th>\n",
       "      <th>start_location_long</th>\n",
       "      <th>start_location_lat</th>\n",
       "      <th>end_location_long</th>\n",
       "      <th>end_location_lat</th>\n",
       "    </tr>\n",
       "  </thead>\n",
       "  <tbody>\n",
       "    <tr>\n",
       "      <th>30339</th>\n",
       "      <td>186</td>\n",
       "      <td>57</td>\n",
       "      <td>-73.992438</td>\n",
       "      <td>40.748497</td>\n",
       "      <td>-73.853582</td>\n",
       "      <td>40.751819</td>\n",
       "    </tr>\n",
       "    <tr>\n",
       "      <th>35836</th>\n",
       "      <td>129</td>\n",
       "      <td>57</td>\n",
       "      <td>-73.885317</td>\n",
       "      <td>40.757312</td>\n",
       "      <td>-73.853582</td>\n",
       "      <td>40.751819</td>\n",
       "    </tr>\n",
       "    <tr>\n",
       "      <th>41673</th>\n",
       "      <td>129</td>\n",
       "      <td>57</td>\n",
       "      <td>-73.885317</td>\n",
       "      <td>40.757312</td>\n",
       "      <td>-73.853582</td>\n",
       "      <td>40.751819</td>\n",
       "    </tr>\n",
       "    <tr>\n",
       "      <th>60245</th>\n",
       "      <td>261</td>\n",
       "      <td>104</td>\n",
       "      <td>-74.013023</td>\n",
       "      <td>40.709139</td>\n",
       "      <td>-74.040771</td>\n",
       "      <td>40.698769</td>\n",
       "    </tr>\n",
       "    <tr>\n",
       "      <th>113043</th>\n",
       "      <td>83</td>\n",
       "      <td>57</td>\n",
       "      <td>-73.892173</td>\n",
       "      <td>40.738324</td>\n",
       "      <td>-73.853582</td>\n",
       "      <td>40.751819</td>\n",
       "    </tr>\n",
       "    <tr>\n",
       "      <th>...</th>\n",
       "      <td>...</td>\n",
       "      <td>...</td>\n",
       "      <td>...</td>\n",
       "      <td>...</td>\n",
       "      <td>...</td>\n",
       "      <td>...</td>\n",
       "    </tr>\n",
       "    <tr>\n",
       "      <th>23442988</th>\n",
       "      <td>132</td>\n",
       "      <td>57</td>\n",
       "      <td>-73.786533</td>\n",
       "      <td>40.646985</td>\n",
       "      <td>-73.853582</td>\n",
       "      <td>40.751819</td>\n",
       "    </tr>\n",
       "    <tr>\n",
       "      <th>23445341</th>\n",
       "      <td>132</td>\n",
       "      <td>57</td>\n",
       "      <td>-73.786533</td>\n",
       "      <td>40.646985</td>\n",
       "      <td>-73.853582</td>\n",
       "      <td>40.751819</td>\n",
       "    </tr>\n",
       "    <tr>\n",
       "      <th>23470046</th>\n",
       "      <td>138</td>\n",
       "      <td>57</td>\n",
       "      <td>-73.873629</td>\n",
       "      <td>40.774376</td>\n",
       "      <td>-73.853582</td>\n",
       "      <td>40.751819</td>\n",
       "    </tr>\n",
       "    <tr>\n",
       "      <th>23520580</th>\n",
       "      <td>138</td>\n",
       "      <td>57</td>\n",
       "      <td>-73.873629</td>\n",
       "      <td>40.774376</td>\n",
       "      <td>-73.853582</td>\n",
       "      <td>40.751819</td>\n",
       "    </tr>\n",
       "    <tr>\n",
       "      <th>23530977</th>\n",
       "      <td>7</td>\n",
       "      <td>57</td>\n",
       "      <td>-73.919694</td>\n",
       "      <td>40.761493</td>\n",
       "      <td>-73.853582</td>\n",
       "      <td>40.751819</td>\n",
       "    </tr>\n",
       "  </tbody>\n",
       "</table>\n",
       "<p>674 rows × 6 columns</p>\n",
       "</div>"
      ],
      "text/plain": [
       "          PULocationID  DOLocationID  start_location_long  start_location_lat  \\\n",
       "30339              186            57           -73.992438           40.748497   \n",
       "35836              129            57           -73.885317           40.757312   \n",
       "41673              129            57           -73.885317           40.757312   \n",
       "60245              261           104           -74.013023           40.709139   \n",
       "113043              83            57           -73.892173           40.738324   \n",
       "...                ...           ...                  ...                 ...   \n",
       "23442988           132            57           -73.786533           40.646985   \n",
       "23445341           132            57           -73.786533           40.646985   \n",
       "23470046           138            57           -73.873629           40.774376   \n",
       "23520580           138            57           -73.873629           40.774376   \n",
       "23530977             7            57           -73.919694           40.761493   \n",
       "\n",
       "          end_location_long  end_location_lat  \n",
       "30339            -73.853582         40.751819  \n",
       "35836            -73.853582         40.751819  \n",
       "41673            -73.853582         40.751819  \n",
       "60245            -74.040771         40.698769  \n",
       "113043           -73.853582         40.751819  \n",
       "...                     ...               ...  \n",
       "23442988         -73.853582         40.751819  \n",
       "23445341         -73.853582         40.751819  \n",
       "23470046         -73.853582         40.751819  \n",
       "23520580         -73.853582         40.751819  \n",
       "23530977         -73.853582         40.751819  \n",
       "\n",
       "[674 rows x 6 columns]"
      ]
     },
     "execution_count": 10,
     "metadata": {},
     "output_type": "execute_result"
    }
   ],
   "source": [
    "geo_data[(geo_data[\"PULocationID\"] == 57) | (geo_data[\"DOLocationID\"] == 57) |\n",
    "         (geo_data[\"PULocationID\"] == 103) | (geo_data[\"DOLocationID\"] == 103) |\n",
    "         (geo_data[\"PULocationID\"] == 104) | (geo_data[\"DOLocationID\"] == 104)]"
   ]
  },
  {
   "cell_type": "code",
   "execution_count": 19,
   "id": "6a1407ac",
   "metadata": {},
   "outputs": [],
   "source": [
    "gdf = yellowcab.io.read_all_files(\"geojson\")"
   ]
  },
  {
   "cell_type": "code",
   "execution_count": 20,
   "id": "7ae7d2b1",
   "metadata": {},
   "outputs": [],
   "source": [
    "gdf[\"location_id\"] = gdf[\"location_id\"].astype(int)"
   ]
  },
  {
   "cell_type": "code",
   "execution_count": 21,
   "id": "504659b0",
   "metadata": {},
   "outputs": [
    {
     "data": {
      "text/plain": [
       "263"
      ]
     },
     "execution_count": 21,
     "metadata": {},
     "output_type": "execute_result"
    }
   ],
   "source": [
    "len(gdf[\"location_id\"])"
   ]
  },
  {
   "cell_type": "code",
   "execution_count": 22,
   "id": "448063fc",
   "metadata": {},
   "outputs": [
    {
     "data": {
      "text/plain": [
       "260"
      ]
     },
     "execution_count": 22,
     "metadata": {},
     "output_type": "execute_result"
    }
   ],
   "source": [
    "len(gdf[\"location_id\"].unique())"
   ]
  },
  {
   "cell_type": "code",
   "execution_count": 23,
   "id": "708e047a",
   "metadata": {},
   "outputs": [
    {
     "data": {
      "text/plain": [
       "263"
      ]
     },
     "execution_count": 23,
     "metadata": {},
     "output_type": "execute_result"
    }
   ],
   "source": [
    "len(gdf[\"objectid\"].unique())"
   ]
  },
  {
   "cell_type": "code",
   "execution_count": 24,
   "id": "55f6568b",
   "metadata": {},
   "outputs": [
    {
     "data": {
      "text/html": [
       "<div>\n",
       "<style scoped>\n",
       "    .dataframe tbody tr th:only-of-type {\n",
       "        vertical-align: middle;\n",
       "    }\n",
       "\n",
       "    .dataframe tbody tr th {\n",
       "        vertical-align: top;\n",
       "    }\n",
       "\n",
       "    .dataframe thead th {\n",
       "        text-align: right;\n",
       "    }\n",
       "</style>\n",
       "<table border=\"1\" class=\"dataframe\">\n",
       "  <thead>\n",
       "    <tr style=\"text-align: right;\">\n",
       "      <th></th>\n",
       "      <th>shape_area</th>\n",
       "      <th>objectid</th>\n",
       "      <th>shape_leng</th>\n",
       "      <th>location_id</th>\n",
       "      <th>zone</th>\n",
       "      <th>borough</th>\n",
       "      <th>geometry</th>\n",
       "    </tr>\n",
       "  </thead>\n",
       "  <tbody>\n",
       "    <tr>\n",
       "      <th>55</th>\n",
       "      <td>0.000180907844436</td>\n",
       "      <td>56</td>\n",
       "      <td>0.0568478126677</td>\n",
       "      <td>56</td>\n",
       "      <td>Corona</td>\n",
       "      <td>Queens</td>\n",
       "      <td>MULTIPOLYGON (((-73.85361 40.74750, -73.85325 ...</td>\n",
       "    </tr>\n",
       "    <tr>\n",
       "      <th>56</th>\n",
       "      <td>0.0000180259807917</td>\n",
       "      <td>57</td>\n",
       "      <td>0.0192705048557</td>\n",
       "      <td>56</td>\n",
       "      <td>Corona</td>\n",
       "      <td>Queens</td>\n",
       "      <td>MULTIPOLYGON (((-73.85131 40.74984, -73.85443 ...</td>\n",
       "    </tr>\n",
       "    <tr>\n",
       "      <th>103</th>\n",
       "      <td>0.00000633056361314</td>\n",
       "      <td>103</td>\n",
       "      <td>0.0143055167343</td>\n",
       "      <td>103</td>\n",
       "      <td>Governor's Island/Ellis Island/Liberty Island</td>\n",
       "      <td>Manhattan</td>\n",
       "      <td>MULTIPOLYGON (((-74.04389 40.69018, -74.04351 ...</td>\n",
       "    </tr>\n",
       "    <tr>\n",
       "      <th>104</th>\n",
       "      <td>0.0000119205339715</td>\n",
       "      <td>104</td>\n",
       "      <td>0.0212208330928</td>\n",
       "      <td>103</td>\n",
       "      <td>Governor's Island/Ellis Island/Liberty Island</td>\n",
       "      <td>Manhattan</td>\n",
       "      <td>MULTIPOLYGON (((-74.03995 40.70089, -74.03945 ...</td>\n",
       "    </tr>\n",
       "    <tr>\n",
       "      <th>105</th>\n",
       "      <td>0.000368636392805</td>\n",
       "      <td>105</td>\n",
       "      <td>0.0774253398314</td>\n",
       "      <td>103</td>\n",
       "      <td>Governor's Island/Ellis Island/Liberty Island</td>\n",
       "      <td>Manhattan</td>\n",
       "      <td>MULTIPOLYGON (((-74.01675 40.69334, -74.01540 ...</td>\n",
       "    </tr>\n",
       "  </tbody>\n",
       "</table>\n",
       "</div>"
      ],
      "text/plain": [
       "              shape_area objectid       shape_leng  location_id  \\\n",
       "55     0.000180907844436       56  0.0568478126677           56   \n",
       "56    0.0000180259807917       57  0.0192705048557           56   \n",
       "103  0.00000633056361314      103  0.0143055167343          103   \n",
       "104   0.0000119205339715      104  0.0212208330928          103   \n",
       "105    0.000368636392805      105  0.0774253398314          103   \n",
       "\n",
       "                                              zone    borough  \\\n",
       "55                                          Corona     Queens   \n",
       "56                                          Corona     Queens   \n",
       "103  Governor's Island/Ellis Island/Liberty Island  Manhattan   \n",
       "104  Governor's Island/Ellis Island/Liberty Island  Manhattan   \n",
       "105  Governor's Island/Ellis Island/Liberty Island  Manhattan   \n",
       "\n",
       "                                              geometry  \n",
       "55   MULTIPOLYGON (((-73.85361 40.74750, -73.85325 ...  \n",
       "56   MULTIPOLYGON (((-73.85131 40.74984, -73.85443 ...  \n",
       "103  MULTIPOLYGON (((-74.04389 40.69018, -74.04351 ...  \n",
       "104  MULTIPOLYGON (((-74.03995 40.70089, -74.03945 ...  \n",
       "105  MULTIPOLYGON (((-74.01675 40.69334, -74.01540 ...  "
      ]
     },
     "execution_count": 24,
     "metadata": {},
     "output_type": "execute_result"
    }
   ],
   "source": [
    "gdf[(gdf[\"location_id\"] == 56) | (gdf[\"location_id\"] == 103)]"
   ]
  },
  {
   "cell_type": "code",
   "execution_count": 25,
   "id": "c5fb5ff7",
   "metadata": {},
   "outputs": [
    {
     "data": {
      "text/html": [
       "<div>\n",
       "<style scoped>\n",
       "    .dataframe tbody tr th:only-of-type {\n",
       "        vertical-align: middle;\n",
       "    }\n",
       "\n",
       "    .dataframe tbody tr th {\n",
       "        vertical-align: top;\n",
       "    }\n",
       "\n",
       "    .dataframe thead th {\n",
       "        text-align: right;\n",
       "    }\n",
       "</style>\n",
       "<table border=\"1\" class=\"dataframe\">\n",
       "  <thead>\n",
       "    <tr style=\"text-align: right;\">\n",
       "      <th></th>\n",
       "      <th>shape_area</th>\n",
       "      <th>objectid</th>\n",
       "      <th>shape_leng</th>\n",
       "      <th>location_id</th>\n",
       "      <th>zone</th>\n",
       "      <th>borough</th>\n",
       "      <th>geometry</th>\n",
       "    </tr>\n",
       "  </thead>\n",
       "  <tbody>\n",
       "    <tr>\n",
       "      <th>56</th>\n",
       "      <td>0.0000180259807917</td>\n",
       "      <td>57</td>\n",
       "      <td>0.0192705048557</td>\n",
       "      <td>56</td>\n",
       "      <td>Corona</td>\n",
       "      <td>Queens</td>\n",
       "      <td>MULTIPOLYGON (((-73.85131 40.74984, -73.85443 ...</td>\n",
       "    </tr>\n",
       "    <tr>\n",
       "      <th>104</th>\n",
       "      <td>0.0000119205339715</td>\n",
       "      <td>104</td>\n",
       "      <td>0.0212208330928</td>\n",
       "      <td>103</td>\n",
       "      <td>Governor's Island/Ellis Island/Liberty Island</td>\n",
       "      <td>Manhattan</td>\n",
       "      <td>MULTIPOLYGON (((-74.03995 40.70089, -74.03945 ...</td>\n",
       "    </tr>\n",
       "    <tr>\n",
       "      <th>105</th>\n",
       "      <td>0.000368636392805</td>\n",
       "      <td>105</td>\n",
       "      <td>0.0774253398314</td>\n",
       "      <td>103</td>\n",
       "      <td>Governor's Island/Ellis Island/Liberty Island</td>\n",
       "      <td>Manhattan</td>\n",
       "      <td>MULTIPOLYGON (((-74.01675 40.69334, -74.01540 ...</td>\n",
       "    </tr>\n",
       "  </tbody>\n",
       "</table>\n",
       "</div>"
      ],
      "text/plain": [
       "             shape_area objectid       shape_leng  location_id  \\\n",
       "56   0.0000180259807917       57  0.0192705048557           56   \n",
       "104  0.0000119205339715      104  0.0212208330928          103   \n",
       "105   0.000368636392805      105  0.0774253398314          103   \n",
       "\n",
       "                                              zone    borough  \\\n",
       "56                                          Corona     Queens   \n",
       "104  Governor's Island/Ellis Island/Liberty Island  Manhattan   \n",
       "105  Governor's Island/Ellis Island/Liberty Island  Manhattan   \n",
       "\n",
       "                                              geometry  \n",
       "56   MULTIPOLYGON (((-73.85131 40.74984, -73.85443 ...  \n",
       "104  MULTIPOLYGON (((-74.03995 40.70089, -74.03945 ...  \n",
       "105  MULTIPOLYGON (((-74.01675 40.69334, -74.01540 ...  "
      ]
     },
     "execution_count": 25,
     "metadata": {},
     "output_type": "execute_result"
    }
   ],
   "source": [
    "gdf[gdf.duplicated(subset=[\"location_id\"])]"
   ]
  },
  {
   "cell_type": "code",
   "execution_count": 26,
   "id": "fcb02cfe",
   "metadata": {},
   "outputs": [
    {
     "name": "stdout",
     "output_type": "stream",
     "text": [
      "103\n",
      "104\n",
      "110\n"
     ]
    }
   ],
   "source": [
    "for i in range(1, 264):\n",
    "    if(i not in trip_data[\"PULocationID\"].unique()):\n",
    "        print(i)"
   ]
  },
  {
   "cell_type": "code",
   "execution_count": 27,
   "id": "27e2837f",
   "metadata": {},
   "outputs": [
    {
     "name": "stdout",
     "output_type": "stream",
     "text": [
      "103\n",
      "110\n"
     ]
    }
   ],
   "source": [
    "for i in range(1, 264):\n",
    "    if(i not in trip_data[\"DOLocationID\"].unique()):\n",
    "        print(i)"
   ]
  },
  {
   "cell_type": "code",
   "execution_count": 28,
   "id": "e863fc25",
   "metadata": {},
   "outputs": [
    {
     "name": "stdout",
     "output_type": "stream",
     "text": [
      "57\n",
      "104\n",
      "105\n"
     ]
    }
   ],
   "source": [
    "for i in range(1, 264):\n",
    "    if(i not in gdf[\"location_id\"].unique()):\n",
    "        print(i)"
   ]
  },
  {
   "cell_type": "code",
   "execution_count": 29,
   "id": "attended-error",
   "metadata": {},
   "outputs": [],
   "source": [
    "taxi_zones_csv = yellowcab.io.read_all_files(\"csv\")"
   ]
  },
  {
   "cell_type": "code",
   "execution_count": 30,
   "id": "about-dayton",
   "metadata": {
    "scrolled": true
   },
   "outputs": [
    {
     "data": {
      "text/html": [
       "<div>\n",
       "<style scoped>\n",
       "    .dataframe tbody tr th:only-of-type {\n",
       "        vertical-align: middle;\n",
       "    }\n",
       "\n",
       "    .dataframe tbody tr th {\n",
       "        vertical-align: top;\n",
       "    }\n",
       "\n",
       "    .dataframe thead th {\n",
       "        text-align: right;\n",
       "    }\n",
       "</style>\n",
       "<table border=\"1\" class=\"dataframe\">\n",
       "  <thead>\n",
       "    <tr style=\"text-align: right;\">\n",
       "      <th></th>\n",
       "      <th>LocationID</th>\n",
       "      <th>Borough</th>\n",
       "      <th>Zone</th>\n",
       "      <th>service_zone</th>\n",
       "    </tr>\n",
       "  </thead>\n",
       "  <tbody>\n",
       "    <tr>\n",
       "      <th>0</th>\n",
       "      <td>1</td>\n",
       "      <td>EWR</td>\n",
       "      <td>Newark Airport</td>\n",
       "      <td>EWR</td>\n",
       "    </tr>\n",
       "    <tr>\n",
       "      <th>1</th>\n",
       "      <td>2</td>\n",
       "      <td>Queens</td>\n",
       "      <td>Jamaica Bay</td>\n",
       "      <td>Boro Zone</td>\n",
       "    </tr>\n",
       "    <tr>\n",
       "      <th>2</th>\n",
       "      <td>3</td>\n",
       "      <td>Bronx</td>\n",
       "      <td>Allerton/Pelham Gardens</td>\n",
       "      <td>Boro Zone</td>\n",
       "    </tr>\n",
       "    <tr>\n",
       "      <th>3</th>\n",
       "      <td>4</td>\n",
       "      <td>Manhattan</td>\n",
       "      <td>Alphabet City</td>\n",
       "      <td>Yellow Zone</td>\n",
       "    </tr>\n",
       "    <tr>\n",
       "      <th>4</th>\n",
       "      <td>5</td>\n",
       "      <td>Staten Island</td>\n",
       "      <td>Arden Heights</td>\n",
       "      <td>Boro Zone</td>\n",
       "    </tr>\n",
       "    <tr>\n",
       "      <th>...</th>\n",
       "      <td>...</td>\n",
       "      <td>...</td>\n",
       "      <td>...</td>\n",
       "      <td>...</td>\n",
       "    </tr>\n",
       "    <tr>\n",
       "      <th>260</th>\n",
       "      <td>261</td>\n",
       "      <td>Manhattan</td>\n",
       "      <td>World Trade Center</td>\n",
       "      <td>Yellow Zone</td>\n",
       "    </tr>\n",
       "    <tr>\n",
       "      <th>261</th>\n",
       "      <td>262</td>\n",
       "      <td>Manhattan</td>\n",
       "      <td>Yorkville East</td>\n",
       "      <td>Yellow Zone</td>\n",
       "    </tr>\n",
       "    <tr>\n",
       "      <th>262</th>\n",
       "      <td>263</td>\n",
       "      <td>Manhattan</td>\n",
       "      <td>Yorkville West</td>\n",
       "      <td>Yellow Zone</td>\n",
       "    </tr>\n",
       "    <tr>\n",
       "      <th>263</th>\n",
       "      <td>264</td>\n",
       "      <td>Unknown</td>\n",
       "      <td>NV</td>\n",
       "      <td>NaN</td>\n",
       "    </tr>\n",
       "    <tr>\n",
       "      <th>264</th>\n",
       "      <td>265</td>\n",
       "      <td>Unknown</td>\n",
       "      <td>NaN</td>\n",
       "      <td>NaN</td>\n",
       "    </tr>\n",
       "  </tbody>\n",
       "</table>\n",
       "<p>265 rows × 4 columns</p>\n",
       "</div>"
      ],
      "text/plain": [
       "     LocationID        Borough                     Zone service_zone\n",
       "0             1            EWR           Newark Airport          EWR\n",
       "1             2         Queens              Jamaica Bay    Boro Zone\n",
       "2             3          Bronx  Allerton/Pelham Gardens    Boro Zone\n",
       "3             4      Manhattan            Alphabet City  Yellow Zone\n",
       "4             5  Staten Island            Arden Heights    Boro Zone\n",
       "..          ...            ...                      ...          ...\n",
       "260         261      Manhattan       World Trade Center  Yellow Zone\n",
       "261         262      Manhattan           Yorkville East  Yellow Zone\n",
       "262         263      Manhattan           Yorkville West  Yellow Zone\n",
       "263         264        Unknown                       NV          NaN\n",
       "264         265        Unknown                      NaN          NaN\n",
       "\n",
       "[265 rows x 4 columns]"
      ]
     },
     "execution_count": 30,
     "metadata": {},
     "output_type": "execute_result"
    }
   ],
   "source": [
    "taxi_zones_csv"
   ]
  }
 ],
 "metadata": {
  "kernelspec": {
   "display_name": "Python 3",
   "language": "python",
   "name": "python3"
  },
  "language_info": {
   "codemirror_mode": {
    "name": "ipython",
    "version": 3
   },
   "file_extension": ".py",
   "mimetype": "text/x-python",
   "name": "python",
   "nbconvert_exporter": "python",
   "pygments_lexer": "ipython3",
   "version": "3.8.10"
  }
 },
 "nbformat": 4,
 "nbformat_minor": 5
}
