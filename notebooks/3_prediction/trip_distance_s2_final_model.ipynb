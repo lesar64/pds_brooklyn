{
 "cells": [
  {
   "cell_type": "code",
   "execution_count": 1,
   "id": "3b1f5700",
   "metadata": {},
   "outputs": [],
   "source": [
    "# Compare Algorithms\n",
    "import yellowcab\n",
    "import pandas as pd\n",
    "import matplotlib.pyplot as plt\n",
    "import numpy as np\n",
    "import seaborn as sns\n",
    "from datetime import datetime\n",
    "\n",
    "from sklearn.model_selection import train_test_split, GridSearchCV, KFold\n",
    "from sklearn.compose import ColumnTransformer\n",
    "from sklearn.pipeline import Pipeline\n",
    "from sklearn.preprocessing import FunctionTransformer, OneHotEncoder, PolynomialFeatures, StandardScaler, RobustScaler\n",
    "from sklearn.pipeline import make_pipeline\n",
    "from sklearn.linear_model import LinearRegression, Ridge, Lasso\n",
    "from sklearn.neighbors import KNeighborsRegressor\n",
    "from sklearn.tree import DecisionTreeRegressor\n",
    "from sklearn.ensemble import RandomForestRegressor\n",
    "from sklearn.svm import LinearSVR\n",
    "from sklearn.neural_network import MLPRegressor\n",
    "from sklearn import metrics"
   ]
  },
  {
   "cell_type": "code",
   "execution_count": 2,
   "id": "fd086f3d",
   "metadata": {},
   "outputs": [],
   "source": [
    "# load dataset\n",
    "trip_data = yellowcab.io.read_all_files('parquet')"
   ]
  },
  {
   "cell_type": "code",
   "execution_count": 3,
   "id": "af75984c",
   "metadata": {},
   "outputs": [],
   "source": [
    "# this cell can be removed after the associated issue is fixed\n",
    "trip_data = trip_data[trip_data[\"trip_distance\"] > 0]"
   ]
  },
  {
   "cell_type": "code",
   "execution_count": 4,
   "id": "795ab6b1",
   "metadata": {},
   "outputs": [],
   "source": [
    "known = ['passenger_count', 'trip_distance', 'PULocationID', 'DOLocationID',\n",
    "         'start_month', 'start_day', 'start_hour', 'start_week', 'weekend', 'weekday',\n",
    "         'start_location_long', 'start_location_lat', \n",
    "         'end_location_long', 'end_location_lat',\n",
    "         'DOBorough', 'DOservice_zone',\n",
    "         'PUBorough', 'PUservice_zone']\n",
    "\n",
    "numerical_features = ['passenger_count', 'start_month', 'start_day', \n",
    "                      'start_hour', 'start_week', \n",
    "                      'start_location_long', 'start_location_lat',\n",
    "                      'end_location_long', 'end_location_lat']\n",
    "\n",
    "categorical_features = ['PULocationID', 'PUBorough', 'PUservice_zone',\n",
    "                        'DOLocationID', 'DOBorough', 'DOservice_zone',\n",
    "                        'weekend', 'weekday']\n",
    "\n",
    "predict = [\"trip_distance\"]"
   ]
  },
  {
   "cell_type": "code",
   "execution_count": 5,
   "id": "8705ffca",
   "metadata": {},
   "outputs": [],
   "source": [
    "# trip_data = trip_data.sample(100)"
   ]
  },
  {
   "cell_type": "code",
   "execution_count": 6,
   "id": "339cf1fb",
   "metadata": {},
   "outputs": [],
   "source": [
    "X = trip_data[known].drop(columns=predict)\n",
    "y = trip_data[predict]"
   ]
  },
  {
   "cell_type": "code",
   "execution_count": 7,
   "id": "e95bc136",
   "metadata": {},
   "outputs": [],
   "source": [
    "X_train, X_test, y_train, y_test = train_test_split(X, y, test_size=0.2,random_state=42)"
   ]
  },
  {
   "cell_type": "markdown",
   "id": "bcc22e93",
   "metadata": {},
   "source": [
    "### MLPR"
   ]
  },
  {
   "cell_type": "code",
   "execution_count": 8,
   "id": "3100396b",
   "metadata": {},
   "outputs": [],
   "source": [
    "mlp = yellowcab.model.training_pipe(numerical_features, categorical_features, degree=1, regressor=MLPRegressor())"
   ]
  },
  {
   "cell_type": "code",
   "execution_count": 9,
   "id": "5d47042d",
   "metadata": {},
   "outputs": [
    {
     "name": "stdout",
     "output_type": "stream",
     "text": [
      "2021-06-13 06:03:57.253578\n"
     ]
    }
   ],
   "source": [
    "print(datetime.now())"
   ]
  },
  {
   "cell_type": "code",
   "execution_count": 10,
   "id": "c9e1fbd4",
   "metadata": {},
   "outputs": [],
   "source": [
    "mlp = mlp.fit(X_train, y_train.to_numpy().ravel())"
   ]
  },
  {
   "cell_type": "code",
   "execution_count": 11,
   "id": "19768e88",
   "metadata": {},
   "outputs": [
    {
     "name": "stdout",
     "output_type": "stream",
     "text": [
      "2021-06-13 09:33:21.069531\n"
     ]
    }
   ],
   "source": [
    "print(datetime.now())"
   ]
  },
  {
   "cell_type": "code",
   "execution_count": 12,
   "id": "5b9d3b79",
   "metadata": {},
   "outputs": [],
   "source": [
    "mlp_result = yellowcab.model.test_regression_model(mlp, X_train, X_test, y_train, y_test)"
   ]
  },
  {
   "cell_type": "code",
   "execution_count": 13,
   "id": "06c0b102",
   "metadata": {},
   "outputs": [
    {
     "data": {
      "text/html": [
       "<div>\n",
       "<style scoped>\n",
       "    .dataframe tbody tr th:only-of-type {\n",
       "        vertical-align: middle;\n",
       "    }\n",
       "\n",
       "    .dataframe tbody tr th {\n",
       "        vertical-align: top;\n",
       "    }\n",
       "\n",
       "    .dataframe thead th {\n",
       "        text-align: right;\n",
       "    }\n",
       "</style>\n",
       "<table border=\"1\" class=\"dataframe\">\n",
       "  <thead>\n",
       "    <tr style=\"text-align: right;\">\n",
       "      <th></th>\n",
       "      <th>Training set</th>\n",
       "      <th>Test set</th>\n",
       "    </tr>\n",
       "  </thead>\n",
       "  <tbody>\n",
       "    <tr>\n",
       "      <th>RSME</th>\n",
       "      <td>1.006806</td>\n",
       "      <td>0.974075</td>\n",
       "    </tr>\n",
       "    <tr>\n",
       "      <th>MAE</th>\n",
       "      <td>0.471481</td>\n",
       "      <td>0.472594</td>\n",
       "    </tr>\n",
       "  </tbody>\n",
       "</table>\n",
       "</div>"
      ],
      "text/plain": [
       "      Training set  Test set\n",
       "RSME      1.006806  0.974075\n",
       "MAE       0.471481  0.472594"
      ]
     },
     "execution_count": 13,
     "metadata": {},
     "output_type": "execute_result"
    }
   ],
   "source": [
    "mlp_result"
   ]
  },
  {
   "cell_type": "code",
   "execution_count": 15,
   "id": "e4212962",
   "metadata": {},
   "outputs": [],
   "source": [
    "yellowcab.io.save_model(\"s2_trip_distance_mlp\", mlp)"
   ]
  },
  {
   "cell_type": "markdown",
   "id": "c5d91119",
   "metadata": {},
   "source": [
    "### RFR"
   ]
  },
  {
   "cell_type": "code",
   "execution_count": null,
   "id": "9a8e0529",
   "metadata": {},
   "outputs": [],
   "source": [
    "# random_forest = yellowcab.model.training_pipe(numerical_features, categorical_features, degree=1, regressor=RandomForestRegressor(max_depth=100))"
   ]
  },
  {
   "cell_type": "code",
   "execution_count": null,
   "id": "9b6df744",
   "metadata": {},
   "outputs": [],
   "source": [
    "# print(datetime.now())"
   ]
  },
  {
   "cell_type": "code",
   "execution_count": null,
   "id": "6d2467df",
   "metadata": {},
   "outputs": [],
   "source": [
    "# random_forest = random_forest.fit(X_train, y_train)"
   ]
  },
  {
   "cell_type": "code",
   "execution_count": null,
   "id": "f4b778fa",
   "metadata": {},
   "outputs": [],
   "source": [
    "# print(datetime.now())"
   ]
  },
  {
   "cell_type": "code",
   "execution_count": null,
   "id": "0780988c",
   "metadata": {},
   "outputs": [],
   "source": [
    "# forest_result = yellowcab.model.test_regression_model(random_forest, X_train, X_test, y_train, y_test)"
   ]
  },
  {
   "cell_type": "code",
   "execution_count": null,
   "id": "e9b6e20b",
   "metadata": {},
   "outputs": [],
   "source": [
    "# forest_result"
   ]
  }
 ],
 "metadata": {
  "kernelspec": {
   "display_name": "Python 3",
   "language": "python",
   "name": "python3"
  },
  "language_info": {
   "codemirror_mode": {
    "name": "ipython",
    "version": 3
   },
   "file_extension": ".py",
   "mimetype": "text/x-python",
   "name": "python",
   "nbconvert_exporter": "python",
   "pygments_lexer": "ipython3",
   "version": "3.8.10"
  }
 },
 "nbformat": 4,
 "nbformat_minor": 5
}
