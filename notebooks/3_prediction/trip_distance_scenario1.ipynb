{
 "cells": [
  {
   "cell_type": "code",
   "execution_count": 1,
   "id": "942990f7",
   "metadata": {},
   "outputs": [],
   "source": [
    "# Compare Algorithms\n",
    "import yellowcab\n",
    "import pandas as pd\n",
    "import matplotlib.pyplot as plt\n",
    "import numpy as np\n",
    "import seaborn as sns\n",
    "\n",
    "from sklearn.model_selection import train_test_split, GridSearchCV, KFold\n",
    "from sklearn.compose import ColumnTransformer\n",
    "from sklearn.pipeline import Pipeline\n",
    "from sklearn.preprocessing import FunctionTransformer, OneHotEncoder, PolynomialFeatures, StandardScaler, RobustScaler\n",
    "from sklearn.pipeline import make_pipeline\n",
    "from sklearn.linear_model import LinearRegression, Ridge, Lasso\n",
    "from sklearn.neighbors import KNeighborsRegressor\n",
    "from sklearn.tree import DecisionTreeRegressor\n",
    "from sklearn.ensemble import RandomForestRegressor\n",
    "from sklearn.svm import LinearSVR\n",
    "from sklearn.neural_network import MLPRegressor\n",
    "from sklearn import metrics"
   ]
  },
  {
   "cell_type": "code",
   "execution_count": 2,
   "id": "1ad107da",
   "metadata": {},
   "outputs": [],
   "source": [
    "# load dataset\n",
    "trip_data = yellowcab.io.read_all_files('parquet')"
   ]
  },
  {
   "cell_type": "code",
   "execution_count": 3,
   "id": "ba634c1e",
   "metadata": {},
   "outputs": [],
   "source": [
    "# this cell can be removed after the associated issue is fixed\n",
    "trip_data = trip_data[trip_data[\"trip_distance\"] > 0]"
   ]
  },
  {
   "cell_type": "code",
   "execution_count": 4,
   "id": "82063cea",
   "metadata": {},
   "outputs": [
    {
     "data": {
      "text/plain": [
       "Index(['tpep_pickup_datetime', 'tpep_dropoff_datetime', 'passenger_count',\n",
       "       'trip_distance', 'RatecodeID', 'PULocationID', 'DOLocationID',\n",
       "       'payment_type', 'fare_amount', 'extra', 'mta_tax', 'tip_amount',\n",
       "       'tolls_amount', 'improvement_surcharge', 'total_amount',\n",
       "       'congestion_surcharge', 'duration', 'start_month', 'start_day',\n",
       "       'start_hour', 'start_week', 'end_month', 'end_day', 'end_hour',\n",
       "       'end_week', 'weekend', 'weekday', 'start_location_long',\n",
       "       'start_location_lat', 'end_location_long', 'end_location_lat',\n",
       "       'PUBorough', 'PUZone', 'PUservice_zone', 'DOBorough', 'DOZone',\n",
       "       'DOservice_zone'],\n",
       "      dtype='object')"
      ]
     },
     "execution_count": 4,
     "metadata": {},
     "output_type": "execute_result"
    }
   ],
   "source": [
    "trip_data.columns"
   ]
  },
  {
   "cell_type": "code",
   "execution_count": 5,
   "id": "03b69960",
   "metadata": {},
   "outputs": [],
   "source": [
    "known = ['passenger_count', 'trip_distance', 'PULocationID',\n",
    "         'start_month', 'start_day', 'start_hour', 'start_week', 'weekend', 'weekday',\n",
    "         'start_location_long', 'start_location_lat', \n",
    "         'PUBorough', 'PUservice_zone']\n",
    "\n",
    "numerical_features = ['passenger_count', 'start_month', 'start_day', \n",
    "                      'start_hour', 'start_week', \n",
    "                      'start_location_long', 'start_location_lat']\n",
    "\n",
    "categorical_features = ['PULocationID', 'PUBorough', 'PUservice_zone',\n",
    "                        'weekend', 'weekday']\n",
    "\n",
    "predict = [\"trip_distance\"]"
   ]
  },
  {
   "cell_type": "markdown",
   "id": "391b71f9",
   "metadata": {},
   "source": [
    "## Comparing different ML models"
   ]
  },
  {
   "cell_type": "code",
   "execution_count": 6,
   "id": "ccada4c5",
   "metadata": {
    "scrolled": true
   },
   "outputs": [],
   "source": [
    "# yellowcab.model.compare_regression(trip_data, known, predict, sample=10000,\n",
    "#                                   cat_feat=['DOLocationID', 'PULocationID', 'PUBorough', 'PUservice_zone'])"
   ]
  },
  {
   "cell_type": "markdown",
   "id": "270d4d49",
   "metadata": {},
   "source": [
    "## Tuning hyperparameters"
   ]
  },
  {
   "cell_type": "code",
   "execution_count": 7,
   "id": "be836469",
   "metadata": {},
   "outputs": [],
   "source": [
    "data = trip_data.sample(200000, random_state=42)"
   ]
  },
  {
   "cell_type": "code",
   "execution_count": 8,
   "id": "c8adb7a0",
   "metadata": {},
   "outputs": [],
   "source": [
    "X = data[known].drop(columns=predict)\n",
    "y = data[predict]"
   ]
  },
  {
   "cell_type": "code",
   "execution_count": 9,
   "id": "c0c03de5",
   "metadata": {},
   "outputs": [],
   "source": [
    "X_train, X_test, y_train, y_test = train_test_split(X, y, test_size=0.2,random_state=42)"
   ]
  },
  {
   "cell_type": "code",
   "execution_count": 10,
   "id": "fbf8b6a5",
   "metadata": {},
   "outputs": [],
   "source": [
    "y_scaler = Pipeline([(\"log\", FunctionTransformer(np.log1p, inverse_func=np.expm1, \n",
    "                             validate=True, check_inverse=True)),\n",
    "                     (\"scaler\", StandardScaler().fit(y_train))\n",
    "                    ])"
   ]
  },
  {
   "cell_type": "code",
   "execution_count": 11,
   "id": "bd7b932b",
   "metadata": {},
   "outputs": [],
   "source": [
    "y_train_log = y_scaler.transform(y_train)\n",
    "y_test_log = y_scaler.transform(y_test)"
   ]
  },
  {
   "cell_type": "code",
   "execution_count": 12,
   "id": "81df51f0",
   "metadata": {},
   "outputs": [
    {
     "data": {
      "text/plain": [
       "<AxesSubplot:ylabel='Count'>"
      ]
     },
     "execution_count": 12,
     "metadata": {},
     "output_type": "execute_result"
    },
    {
     "data": {
      "image/png": "[encoded data removed]",
      "text/plain": [
       "<Figure size 432x288 with 1 Axes>"
      ]
     },
     "metadata": {
      "needs_background": "light"
     },
     "output_type": "display_data"
    }
   ],
   "source": [
    "sns.histplot(y_train)"
   ]
  },
  {
   "cell_type": "code",
   "execution_count": 13,
   "id": "684f3f8b",
   "metadata": {},
   "outputs": [
    {
     "data": {
      "text/plain": [
       "<AxesSubplot:ylabel='Count'>"
      ]
     },
     "execution_count": 13,
     "metadata": {},
     "output_type": "execute_result"
    },
    {
     "data": {
      "image/png": "[encoded data removed]",
      "text/plain": [
       "<Figure size 432x288 with 1 Axes>"
      ]
     },
     "metadata": {
      "needs_background": "light"
     },
     "output_type": "display_data"
    }
   ],
   "source": [
    "sns.histplot(y_train_log)"
   ]
  },
  {
   "cell_type": "markdown",
   "id": "f7ef5b37",
   "metadata": {},
   "source": [
    "### Decision tree regressor"
   ]
  },
  {
   "cell_type": "code",
   "execution_count": null,
   "id": "a6e75fee",
   "metadata": {},
   "outputs": [],
   "source": [
    "decision_tree = yellowcab.model.training_pipe(numerical_features, categorical_features, degree=1, regressor=DecisionTreeRegressor(max_depth=100))"
   ]
  },
  {
   "cell_type": "code",
   "execution_count": null,
   "id": "f9a13978",
   "metadata": {},
   "outputs": [],
   "source": [
    "decision_tree = decision_tree.fit(X_train, y_train)"
   ]
  },
  {
   "cell_type": "code",
   "execution_count": null,
   "id": "c7828976",
   "metadata": {},
   "outputs": [],
   "source": [
    "tree_result = yellowcab.model.test_regression_model(decision_tree, X_train, X_test, y_train, y_test)"
   ]
  },
  {
   "cell_type": "code",
   "execution_count": null,
   "id": "87f7dd6d",
   "metadata": {},
   "outputs": [],
   "source": [
    "tree_result"
   ]
  },
  {
   "cell_type": "markdown",
   "id": "f4daaecb",
   "metadata": {},
   "source": [
    "### Random forest Regressor"
   ]
  },
  {
   "cell_type": "code",
   "execution_count": null,
   "id": "df406f99",
   "metadata": {},
   "outputs": [],
   "source": [
    "random_forest = yellowcab.model.training_pipe(numerical_features, categorical_features, degree=1, regressor=RandomForestRegressor(max_depth=100))"
   ]
  },
  {
   "cell_type": "code",
   "execution_count": null,
   "id": "fbd805e0",
   "metadata": {},
   "outputs": [],
   "source": [
    "random_forest = random_forest.fit(X_train, y_train)"
   ]
  },
  {
   "cell_type": "code",
   "execution_count": null,
   "id": "35a19b3a",
   "metadata": {},
   "outputs": [],
   "source": [
    "forest_result = yellowcab.model.test_regression_model(random_forest, X_train, X_test, y_train, y_test)"
   ]
  },
  {
   "cell_type": "code",
   "execution_count": null,
   "id": "ff58581c",
   "metadata": {},
   "outputs": [],
   "source": [
    "forest_result"
   ]
  },
  {
   "cell_type": "markdown",
   "id": "dfa7acac",
   "metadata": {},
   "source": [
    "### Multi-layer perceptron regressor"
   ]
  },
  {
   "cell_type": "code",
   "execution_count": null,
   "id": "5c52da48",
   "metadata": {},
   "outputs": [],
   "source": [
    "mlp = yellowcab.model.training_pipe(numerical_features, categorical_features, degree=1, regressor=MLPRegressor())"
   ]
  },
  {
   "cell_type": "code",
   "execution_count": null,
   "id": "f3f40cca",
   "metadata": {},
   "outputs": [],
   "source": [
    "mlp = mlp.fit(X_train, y_train)"
   ]
  },
  {
   "cell_type": "code",
   "execution_count": null,
   "id": "11eda0d7",
   "metadata": {},
   "outputs": [],
   "source": [
    "mlp_result = yellowcab.model.test_regression_model(mlp, X_train, X_test, y_train, y_test)"
   ]
  },
  {
   "cell_type": "code",
   "execution_count": null,
   "id": "bd7cda8e",
   "metadata": {},
   "outputs": [],
   "source": [
    "mlp_result"
   ]
  },
  {
   "cell_type": "markdown",
   "id": "cce99e24",
   "metadata": {},
   "source": [
    "### Gridsearch for polynomial features"
   ]
  },
  {
   "cell_type": "code",
   "execution_count": 14,
   "id": "1f1b695c",
   "metadata": {},
   "outputs": [],
   "source": [
    "lasso_grid = yellowcab.model.gridsearch('r2', numerical_features, categorical_features, regressor=Lasso())"
   ]
  },
  {
   "cell_type": "code",
   "execution_count": 15,
   "id": "d891d023",
   "metadata": {},
   "outputs": [
    {
     "name": "stdout",
     "output_type": "stream",
     "text": [
      "Fitting 5 folds for each of 20 candidates, totalling 100 fits\n"
     ]
    },
    {
     "name": "stderr",
     "output_type": "stream",
     "text": [
      "C:\\Users\\Steffen\\anaconda3\\lib\\site-packages\\sklearn\\pipeline.py:346: UserWarning: With alpha=0, this algorithm does not converge well. You are advised to use the LinearRegression estimator\n",
      "  self._final_estimator.fit(Xt, y, **fit_params_last_step)\n",
      "C:\\Users\\Steffen\\anaconda3\\lib\\site-packages\\sklearn\\linear_model\\_coordinate_descent.py:530: UserWarning: Coordinate descent with no regularization may lead to unexpected results and is discouraged.\n",
      "  model = cd_fast.enet_coordinate_descent(\n"
     ]
    },
    {
     "name": "stdout",
     "output_type": "stream",
     "text": [
      "{'preprocessor__num__poly__degree': 4, 'regressor__alpha': 0.0}\n"
     ]
    },
    {
     "name": "stderr",
     "output_type": "stream",
     "text": [
      "C:\\Users\\Steffen\\anaconda3\\lib\\site-packages\\sklearn\\linear_model\\_coordinate_descent.py:530: ConvergenceWarning: Objective did not converge. You might want to increase the number of iterations. Duality gap: 862079.4640105676, tolerance: 357.1338781576734\n",
      "  model = cd_fast.enet_coordinate_descent(\n"
     ]
    }
   ],
   "source": [
    "lasso_grid_df = yellowcab.model.evaluate_grid(lasso_grid, X_train, y_train, \"s1_gridsearch_lasso\")"
   ]
  },
  {
   "cell_type": "code",
   "execution_count": 16,
   "id": "f8c306e0",
   "metadata": {
    "scrolled": false
   },
   "outputs": [
    {
     "data": {
      "text/html": [
       "<div>\n",
       "<style scoped>\n",
       "    .dataframe tbody tr th:only-of-type {\n",
       "        vertical-align: middle;\n",
       "    }\n",
       "\n",
       "    .dataframe tbody tr th {\n",
       "        vertical-align: top;\n",
       "    }\n",
       "\n",
       "    .dataframe thead th {\n",
       "        text-align: right;\n",
       "    }\n",
       "</style>\n",
       "<table border=\"1\" class=\"dataframe\">\n",
       "  <thead>\n",
       "    <tr style=\"text-align: right;\">\n",
       "      <th></th>\n",
       "      <th>preprocessor__num__poly__degree</th>\n",
       "      <th>regressor__alpha</th>\n",
       "      <th>loss</th>\n",
       "    </tr>\n",
       "  </thead>\n",
       "  <tbody>\n",
       "    <tr>\n",
       "      <th>0</th>\n",
       "      <td>1</td>\n",
       "      <td>0.0000</td>\n",
       "      <td>0.511863</td>\n",
       "    </tr>\n",
       "    <tr>\n",
       "      <th>1</th>\n",
       "      <td>1</td>\n",
       "      <td>0.0025</td>\n",
       "      <td>0.507220</td>\n",
       "    </tr>\n",
       "    <tr>\n",
       "      <th>2</th>\n",
       "      <td>1</td>\n",
       "      <td>0.0050</td>\n",
       "      <td>0.503940</td>\n",
       "    </tr>\n",
       "    <tr>\n",
       "      <th>3</th>\n",
       "      <td>1</td>\n",
       "      <td>0.0075</td>\n",
       "      <td>0.501517</td>\n",
       "    </tr>\n",
       "    <tr>\n",
       "      <th>4</th>\n",
       "      <td>1</td>\n",
       "      <td>0.0100</td>\n",
       "      <td>0.500001</td>\n",
       "    </tr>\n",
       "    <tr>\n",
       "      <th>5</th>\n",
       "      <td>2</td>\n",
       "      <td>0.0000</td>\n",
       "      <td>0.512344</td>\n",
       "    </tr>\n",
       "    <tr>\n",
       "      <th>6</th>\n",
       "      <td>2</td>\n",
       "      <td>0.0025</td>\n",
       "      <td>0.507529</td>\n",
       "    </tr>\n",
       "    <tr>\n",
       "      <th>7</th>\n",
       "      <td>2</td>\n",
       "      <td>0.0050</td>\n",
       "      <td>0.504091</td>\n",
       "    </tr>\n",
       "    <tr>\n",
       "      <th>8</th>\n",
       "      <td>2</td>\n",
       "      <td>0.0075</td>\n",
       "      <td>0.501617</td>\n",
       "    </tr>\n",
       "    <tr>\n",
       "      <th>9</th>\n",
       "      <td>2</td>\n",
       "      <td>0.0100</td>\n",
       "      <td>0.500025</td>\n",
       "    </tr>\n",
       "    <tr>\n",
       "      <th>10</th>\n",
       "      <td>3</td>\n",
       "      <td>0.0000</td>\n",
       "      <td>0.512687</td>\n",
       "    </tr>\n",
       "    <tr>\n",
       "      <th>11</th>\n",
       "      <td>3</td>\n",
       "      <td>0.0025</td>\n",
       "      <td>0.507763</td>\n",
       "    </tr>\n",
       "    <tr>\n",
       "      <th>12</th>\n",
       "      <td>3</td>\n",
       "      <td>0.0050</td>\n",
       "      <td>0.504356</td>\n",
       "    </tr>\n",
       "    <tr>\n",
       "      <th>13</th>\n",
       "      <td>3</td>\n",
       "      <td>0.0075</td>\n",
       "      <td>0.501745</td>\n",
       "    </tr>\n",
       "    <tr>\n",
       "      <th>14</th>\n",
       "      <td>3</td>\n",
       "      <td>0.0100</td>\n",
       "      <td>0.500083</td>\n",
       "    </tr>\n",
       "    <tr>\n",
       "      <th>15</th>\n",
       "      <td>4</td>\n",
       "      <td>0.0000</td>\n",
       "      <td>0.512810</td>\n",
       "    </tr>\n",
       "    <tr>\n",
       "      <th>16</th>\n",
       "      <td>4</td>\n",
       "      <td>0.0025</td>\n",
       "      <td>0.507863</td>\n",
       "    </tr>\n",
       "    <tr>\n",
       "      <th>17</th>\n",
       "      <td>4</td>\n",
       "      <td>0.0050</td>\n",
       "      <td>0.504457</td>\n",
       "    </tr>\n",
       "    <tr>\n",
       "      <th>18</th>\n",
       "      <td>4</td>\n",
       "      <td>0.0075</td>\n",
       "      <td>0.501926</td>\n",
       "    </tr>\n",
       "    <tr>\n",
       "      <th>19</th>\n",
       "      <td>4</td>\n",
       "      <td>0.0100</td>\n",
       "      <td>0.500330</td>\n",
       "    </tr>\n",
       "  </tbody>\n",
       "</table>\n",
       "</div>"
      ],
      "text/plain": [
       "    preprocessor__num__poly__degree  regressor__alpha      loss\n",
       "0                                 1            0.0000  0.511863\n",
       "1                                 1            0.0025  0.507220\n",
       "2                                 1            0.0050  0.503940\n",
       "3                                 1            0.0075  0.501517\n",
       "4                                 1            0.0100  0.500001\n",
       "5                                 2            0.0000  0.512344\n",
       "6                                 2            0.0025  0.507529\n",
       "7                                 2            0.0050  0.504091\n",
       "8                                 2            0.0075  0.501617\n",
       "9                                 2            0.0100  0.500025\n",
       "10                                3            0.0000  0.512687\n",
       "11                                3            0.0025  0.507763\n",
       "12                                3            0.0050  0.504356\n",
       "13                                3            0.0075  0.501745\n",
       "14                                3            0.0100  0.500083\n",
       "15                                4            0.0000  0.512810\n",
       "16                                4            0.0025  0.507863\n",
       "17                                4            0.0050  0.504457\n",
       "18                                4            0.0075  0.501926\n",
       "19                                4            0.0100  0.500330"
      ]
     },
     "execution_count": 16,
     "metadata": {},
     "output_type": "execute_result"
    }
   ],
   "source": [
    "lasso_grid_df"
   ]
  },
  {
   "cell_type": "code",
   "execution_count": 17,
   "id": "6185f956",
   "metadata": {},
   "outputs": [],
   "source": [
    "lasso_result = yellowcab.model.test_regression_model(lasso_grid, X_train, X_test, y_train, y_test)"
   ]
  },
  {
   "cell_type": "code",
   "execution_count": 18,
   "id": "c3b66a1a",
   "metadata": {},
   "outputs": [
    {
     "data": {
      "text/html": [
       "<div>\n",
       "<style scoped>\n",
       "    .dataframe tbody tr th:only-of-type {\n",
       "        vertical-align: middle;\n",
       "    }\n",
       "\n",
       "    .dataframe tbody tr th {\n",
       "        vertical-align: top;\n",
       "    }\n",
       "\n",
       "    .dataframe thead th {\n",
       "        text-align: right;\n",
       "    }\n",
       "</style>\n",
       "<table border=\"1\" class=\"dataframe\">\n",
       "  <thead>\n",
       "    <tr style=\"text-align: right;\">\n",
       "      <th></th>\n",
       "      <th>Training set</th>\n",
       "      <th>Test set</th>\n",
       "    </tr>\n",
       "  </thead>\n",
       "  <tbody>\n",
       "    <tr>\n",
       "      <th>RSME</th>\n",
       "      <td>3.282681</td>\n",
       "      <td>3.278528</td>\n",
       "    </tr>\n",
       "    <tr>\n",
       "      <th>MAE</th>\n",
       "      <td>2.024012</td>\n",
       "      <td>2.020861</td>\n",
       "    </tr>\n",
       "  </tbody>\n",
       "</table>\n",
       "</div>"
      ],
      "text/plain": [
       "      Training set  Test set\n",
       "RSME      3.282681  3.278528\n",
       "MAE       2.024012  2.020861"
      ]
     },
     "execution_count": 18,
     "metadata": {},
     "output_type": "execute_result"
    }
   ],
   "source": [
    "lasso_result"
   ]
  },
  {
   "cell_type": "code",
   "execution_count": 19,
   "id": "948582e2",
   "metadata": {},
   "outputs": [],
   "source": [
    "ridge_grid = yellowcab.model.gridsearch('r2', numerical_features, categorical_features, regressor=Ridge())"
   ]
  },
  {
   "cell_type": "code",
   "execution_count": 20,
   "id": "376012d2",
   "metadata": {},
   "outputs": [
    {
     "name": "stdout",
     "output_type": "stream",
     "text": [
      "Fitting 5 folds for each of 20 candidates, totalling 100 fits\n",
      "{'preprocessor__num__poly__degree': 4, 'regressor__alpha': 0.0025}\n"
     ]
    }
   ],
   "source": [
    "ridge_grid_df = yellowcab.model.evaluate_grid(ridge_grid, X_train, y_train, \"s1_gridsearch_ridge\")"
   ]
  },
  {
   "cell_type": "code",
   "execution_count": 21,
   "id": "e9e5e5bc",
   "metadata": {},
   "outputs": [
    {
     "data": {
      "text/html": [
       "<div>\n",
       "<style scoped>\n",
       "    .dataframe tbody tr th:only-of-type {\n",
       "        vertical-align: middle;\n",
       "    }\n",
       "\n",
       "    .dataframe tbody tr th {\n",
       "        vertical-align: top;\n",
       "    }\n",
       "\n",
       "    .dataframe thead th {\n",
       "        text-align: right;\n",
       "    }\n",
       "</style>\n",
       "<table border=\"1\" class=\"dataframe\">\n",
       "  <thead>\n",
       "    <tr style=\"text-align: right;\">\n",
       "      <th></th>\n",
       "      <th>preprocessor__num__poly__degree</th>\n",
       "      <th>regressor__alpha</th>\n",
       "      <th>loss</th>\n",
       "    </tr>\n",
       "  </thead>\n",
       "  <tbody>\n",
       "    <tr>\n",
       "      <th>0</th>\n",
       "      <td>1</td>\n",
       "      <td>0.0000</td>\n",
       "      <td>5.105666e-01</td>\n",
       "    </tr>\n",
       "    <tr>\n",
       "      <th>1</th>\n",
       "      <td>1</td>\n",
       "      <td>0.0025</td>\n",
       "      <td>5.104618e-01</td>\n",
       "    </tr>\n",
       "    <tr>\n",
       "      <th>2</th>\n",
       "      <td>1</td>\n",
       "      <td>0.0050</td>\n",
       "      <td>5.105006e-01</td>\n",
       "    </tr>\n",
       "    <tr>\n",
       "      <th>3</th>\n",
       "      <td>1</td>\n",
       "      <td>0.0075</td>\n",
       "      <td>5.105040e-01</td>\n",
       "    </tr>\n",
       "    <tr>\n",
       "      <th>4</th>\n",
       "      <td>1</td>\n",
       "      <td>0.0100</td>\n",
       "      <td>5.105409e-01</td>\n",
       "    </tr>\n",
       "    <tr>\n",
       "      <th>5</th>\n",
       "      <td>2</td>\n",
       "      <td>0.0000</td>\n",
       "      <td>5.100044e-01</td>\n",
       "    </tr>\n",
       "    <tr>\n",
       "      <th>6</th>\n",
       "      <td>2</td>\n",
       "      <td>0.0025</td>\n",
       "      <td>5.100106e-01</td>\n",
       "    </tr>\n",
       "    <tr>\n",
       "      <th>7</th>\n",
       "      <td>2</td>\n",
       "      <td>0.0050</td>\n",
       "      <td>5.100664e-01</td>\n",
       "    </tr>\n",
       "    <tr>\n",
       "      <th>8</th>\n",
       "      <td>2</td>\n",
       "      <td>0.0075</td>\n",
       "      <td>5.099665e-01</td>\n",
       "    </tr>\n",
       "    <tr>\n",
       "      <th>9</th>\n",
       "      <td>2</td>\n",
       "      <td>0.0100</td>\n",
       "      <td>5.100574e-01</td>\n",
       "    </tr>\n",
       "    <tr>\n",
       "      <th>10</th>\n",
       "      <td>3</td>\n",
       "      <td>0.0000</td>\n",
       "      <td>-2.943370e+19</td>\n",
       "    </tr>\n",
       "    <tr>\n",
       "      <th>11</th>\n",
       "      <td>3</td>\n",
       "      <td>0.0025</td>\n",
       "      <td>5.136029e-01</td>\n",
       "    </tr>\n",
       "    <tr>\n",
       "      <th>12</th>\n",
       "      <td>3</td>\n",
       "      <td>0.0050</td>\n",
       "      <td>5.135992e-01</td>\n",
       "    </tr>\n",
       "    <tr>\n",
       "      <th>13</th>\n",
       "      <td>3</td>\n",
       "      <td>0.0075</td>\n",
       "      <td>5.135934e-01</td>\n",
       "    </tr>\n",
       "    <tr>\n",
       "      <th>14</th>\n",
       "      <td>3</td>\n",
       "      <td>0.0100</td>\n",
       "      <td>5.135889e-01</td>\n",
       "    </tr>\n",
       "    <tr>\n",
       "      <th>15</th>\n",
       "      <td>4</td>\n",
       "      <td>0.0000</td>\n",
       "      <td>-3.641167e+18</td>\n",
       "    </tr>\n",
       "    <tr>\n",
       "      <th>16</th>\n",
       "      <td>4</td>\n",
       "      <td>0.0025</td>\n",
       "      <td>5.139940e-01</td>\n",
       "    </tr>\n",
       "    <tr>\n",
       "      <th>17</th>\n",
       "      <td>4</td>\n",
       "      <td>0.0050</td>\n",
       "      <td>5.139590e-01</td>\n",
       "    </tr>\n",
       "    <tr>\n",
       "      <th>18</th>\n",
       "      <td>4</td>\n",
       "      <td>0.0075</td>\n",
       "      <td>5.139458e-01</td>\n",
       "    </tr>\n",
       "    <tr>\n",
       "      <th>19</th>\n",
       "      <td>4</td>\n",
       "      <td>0.0100</td>\n",
       "      <td>5.139394e-01</td>\n",
       "    </tr>\n",
       "  </tbody>\n",
       "</table>\n",
       "</div>"
      ],
      "text/plain": [
       "    preprocessor__num__poly__degree  regressor__alpha          loss\n",
       "0                                 1            0.0000  5.105666e-01\n",
       "1                                 1            0.0025  5.104618e-01\n",
       "2                                 1            0.0050  5.105006e-01\n",
       "3                                 1            0.0075  5.105040e-01\n",
       "4                                 1            0.0100  5.105409e-01\n",
       "5                                 2            0.0000  5.100044e-01\n",
       "6                                 2            0.0025  5.100106e-01\n",
       "7                                 2            0.0050  5.100664e-01\n",
       "8                                 2            0.0075  5.099665e-01\n",
       "9                                 2            0.0100  5.100574e-01\n",
       "10                                3            0.0000 -2.943370e+19\n",
       "11                                3            0.0025  5.136029e-01\n",
       "12                                3            0.0050  5.135992e-01\n",
       "13                                3            0.0075  5.135934e-01\n",
       "14                                3            0.0100  5.135889e-01\n",
       "15                                4            0.0000 -3.641167e+18\n",
       "16                                4            0.0025  5.139940e-01\n",
       "17                                4            0.0050  5.139590e-01\n",
       "18                                4            0.0075  5.139458e-01\n",
       "19                                4            0.0100  5.139394e-01"
      ]
     },
     "execution_count": 21,
     "metadata": {},
     "output_type": "execute_result"
    }
   ],
   "source": [
    "ridge_grid_df"
   ]
  },
  {
   "cell_type": "code",
   "execution_count": 22,
   "id": "af903392",
   "metadata": {},
   "outputs": [],
   "source": [
    "ridge_result = yellowcab.model.test_regression_model(ridge_grid, X_train, X_test, y_train, y_test)"
   ]
  },
  {
   "cell_type": "code",
   "execution_count": 23,
   "id": "31f24088",
   "metadata": {},
   "outputs": [
    {
     "data": {
      "text/html": [
       "<div>\n",
       "<style scoped>\n",
       "    .dataframe tbody tr th:only-of-type {\n",
       "        vertical-align: middle;\n",
       "    }\n",
       "\n",
       "    .dataframe tbody tr th {\n",
       "        vertical-align: top;\n",
       "    }\n",
       "\n",
       "    .dataframe thead th {\n",
       "        text-align: right;\n",
       "    }\n",
       "</style>\n",
       "<table border=\"1\" class=\"dataframe\">\n",
       "  <thead>\n",
       "    <tr style=\"text-align: right;\">\n",
       "      <th></th>\n",
       "      <th>Training set</th>\n",
       "      <th>Test set</th>\n",
       "    </tr>\n",
       "  </thead>\n",
       "  <tbody>\n",
       "    <tr>\n",
       "      <th>RSME</th>\n",
       "      <td>3.276237</td>\n",
       "      <td>3.272226</td>\n",
       "    </tr>\n",
       "    <tr>\n",
       "      <th>MAE</th>\n",
       "      <td>2.020480</td>\n",
       "      <td>2.018278</td>\n",
       "    </tr>\n",
       "  </tbody>\n",
       "</table>\n",
       "</div>"
      ],
      "text/plain": [
       "      Training set  Test set\n",
       "RSME      3.276237  3.272226\n",
       "MAE       2.020480  2.018278"
      ]
     },
     "execution_count": 23,
     "metadata": {},
     "output_type": "execute_result"
    }
   ],
   "source": [
    "ridge_result"
   ]
  },
  {
   "cell_type": "markdown",
   "id": "dbb92737",
   "metadata": {},
   "source": [
    "### Gridsearch for polynomial features with logarithmic target"
   ]
  },
  {
   "cell_type": "code",
   "execution_count": 24,
   "id": "d3669bee",
   "metadata": {},
   "outputs": [],
   "source": [
    "# try again with neg_mean_absolute_error, r2\n",
    "grid_log = yellowcab.model.gridsearch('neg_root_mean_squared_error', numerical_features, categorical_features, regressor=Lasso())"
   ]
  },
  {
   "cell_type": "code",
   "execution_count": 25,
   "id": "fff8cde7",
   "metadata": {},
   "outputs": [
    {
     "name": "stdout",
     "output_type": "stream",
     "text": [
      "Fitting 5 folds for each of 20 candidates, totalling 100 fits\n"
     ]
    },
    {
     "name": "stderr",
     "output_type": "stream",
     "text": [
      "C:\\Users\\Steffen\\anaconda3\\lib\\site-packages\\sklearn\\pipeline.py:346: UserWarning: With alpha=0, this algorithm does not converge well. You are advised to use the LinearRegression estimator\n",
      "  self._final_estimator.fit(Xt, y, **fit_params_last_step)\n",
      "C:\\Users\\Steffen\\anaconda3\\lib\\site-packages\\sklearn\\linear_model\\_coordinate_descent.py:530: UserWarning: Coordinate descent with no regularization may lead to unexpected results and is discouraged.\n",
      "  model = cd_fast.enet_coordinate_descent(\n"
     ]
    },
    {
     "name": "stdout",
     "output_type": "stream",
     "text": [
      "{'preprocessor__num__poly__degree': 4, 'regressor__alpha': 0.0}\n"
     ]
    },
    {
     "name": "stderr",
     "output_type": "stream",
     "text": [
      "C:\\Users\\Steffen\\anaconda3\\lib\\site-packages\\sklearn\\linear_model\\_coordinate_descent.py:530: ConvergenceWarning: Objective did not converge. You might want to increase the number of iterations. Duality gap: 997.1146750593036, tolerance: 0.35072789934954457\n",
      "  model = cd_fast.enet_coordinate_descent(\n"
     ]
    }
   ],
   "source": [
    "grid_log_df = yellowcab.model.evaluate_grid(grid_log, X_train, y_train_log, \"s1_gridsearch_lasso_log\")"
   ]
  },
  {
   "cell_type": "code",
   "execution_count": 26,
   "id": "18b71fbb",
   "metadata": {},
   "outputs": [
    {
     "data": {
      "text/html": [
       "<div>\n",
       "<style scoped>\n",
       "    .dataframe tbody tr th:only-of-type {\n",
       "        vertical-align: middle;\n",
       "    }\n",
       "\n",
       "    .dataframe tbody tr th {\n",
       "        vertical-align: top;\n",
       "    }\n",
       "\n",
       "    .dataframe thead th {\n",
       "        text-align: right;\n",
       "    }\n",
       "</style>\n",
       "<table border=\"1\" class=\"dataframe\">\n",
       "  <thead>\n",
       "    <tr style=\"text-align: right;\">\n",
       "      <th></th>\n",
       "      <th>preprocessor__num__poly__degree</th>\n",
       "      <th>regressor__alpha</th>\n",
       "      <th>loss</th>\n",
       "    </tr>\n",
       "  </thead>\n",
       "  <tbody>\n",
       "    <tr>\n",
       "      <th>0</th>\n",
       "      <td>1</td>\n",
       "      <td>0.0000</td>\n",
       "      <td>-0.112246</td>\n",
       "    </tr>\n",
       "    <tr>\n",
       "      <th>1</th>\n",
       "      <td>1</td>\n",
       "      <td>0.0025</td>\n",
       "      <td>-0.117098</td>\n",
       "    </tr>\n",
       "    <tr>\n",
       "      <th>2</th>\n",
       "      <td>1</td>\n",
       "      <td>0.0050</td>\n",
       "      <td>-0.117179</td>\n",
       "    </tr>\n",
       "    <tr>\n",
       "      <th>3</th>\n",
       "      <td>1</td>\n",
       "      <td>0.0075</td>\n",
       "      <td>-0.117313</td>\n",
       "    </tr>\n",
       "    <tr>\n",
       "      <th>4</th>\n",
       "      <td>1</td>\n",
       "      <td>0.0100</td>\n",
       "      <td>-0.117502</td>\n",
       "    </tr>\n",
       "    <tr>\n",
       "      <th>5</th>\n",
       "      <td>2</td>\n",
       "      <td>0.0000</td>\n",
       "      <td>-0.112012</td>\n",
       "    </tr>\n",
       "    <tr>\n",
       "      <th>6</th>\n",
       "      <td>2</td>\n",
       "      <td>0.0025</td>\n",
       "      <td>-0.117073</td>\n",
       "    </tr>\n",
       "    <tr>\n",
       "      <th>7</th>\n",
       "      <td>2</td>\n",
       "      <td>0.0050</td>\n",
       "      <td>-0.117104</td>\n",
       "    </tr>\n",
       "    <tr>\n",
       "      <th>8</th>\n",
       "      <td>2</td>\n",
       "      <td>0.0075</td>\n",
       "      <td>-0.117146</td>\n",
       "    </tr>\n",
       "    <tr>\n",
       "      <th>9</th>\n",
       "      <td>2</td>\n",
       "      <td>0.0100</td>\n",
       "      <td>-0.117205</td>\n",
       "    </tr>\n",
       "    <tr>\n",
       "      <th>10</th>\n",
       "      <td>3</td>\n",
       "      <td>0.0000</td>\n",
       "      <td>-0.111970</td>\n",
       "    </tr>\n",
       "    <tr>\n",
       "      <th>11</th>\n",
       "      <td>3</td>\n",
       "      <td>0.0025</td>\n",
       "      <td>-0.117063</td>\n",
       "    </tr>\n",
       "    <tr>\n",
       "      <th>12</th>\n",
       "      <td>3</td>\n",
       "      <td>0.0050</td>\n",
       "      <td>-0.117087</td>\n",
       "    </tr>\n",
       "    <tr>\n",
       "      <th>13</th>\n",
       "      <td>3</td>\n",
       "      <td>0.0075</td>\n",
       "      <td>-0.117108</td>\n",
       "    </tr>\n",
       "    <tr>\n",
       "      <th>14</th>\n",
       "      <td>3</td>\n",
       "      <td>0.0100</td>\n",
       "      <td>-0.117137</td>\n",
       "    </tr>\n",
       "    <tr>\n",
       "      <th>15</th>\n",
       "      <td>4</td>\n",
       "      <td>0.0000</td>\n",
       "      <td>-0.111961</td>\n",
       "    </tr>\n",
       "    <tr>\n",
       "      <th>16</th>\n",
       "      <td>4</td>\n",
       "      <td>0.0025</td>\n",
       "      <td>-0.117055</td>\n",
       "    </tr>\n",
       "    <tr>\n",
       "      <th>17</th>\n",
       "      <td>4</td>\n",
       "      <td>0.0050</td>\n",
       "      <td>-0.117084</td>\n",
       "    </tr>\n",
       "    <tr>\n",
       "      <th>18</th>\n",
       "      <td>4</td>\n",
       "      <td>0.0075</td>\n",
       "      <td>-0.117119</td>\n",
       "    </tr>\n",
       "    <tr>\n",
       "      <th>19</th>\n",
       "      <td>4</td>\n",
       "      <td>0.0100</td>\n",
       "      <td>-0.117156</td>\n",
       "    </tr>\n",
       "  </tbody>\n",
       "</table>\n",
       "</div>"
      ],
      "text/plain": [
       "    preprocessor__num__poly__degree  regressor__alpha      loss\n",
       "0                                 1            0.0000 -0.112246\n",
       "1                                 1            0.0025 -0.117098\n",
       "2                                 1            0.0050 -0.117179\n",
       "3                                 1            0.0075 -0.117313\n",
       "4                                 1            0.0100 -0.117502\n",
       "5                                 2            0.0000 -0.112012\n",
       "6                                 2            0.0025 -0.117073\n",
       "7                                 2            0.0050 -0.117104\n",
       "8                                 2            0.0075 -0.117146\n",
       "9                                 2            0.0100 -0.117205\n",
       "10                                3            0.0000 -0.111970\n",
       "11                                3            0.0025 -0.117063\n",
       "12                                3            0.0050 -0.117087\n",
       "13                                3            0.0075 -0.117108\n",
       "14                                3            0.0100 -0.117137\n",
       "15                                4            0.0000 -0.111961\n",
       "16                                4            0.0025 -0.117055\n",
       "17                                4            0.0050 -0.117084\n",
       "18                                4            0.0075 -0.117119\n",
       "19                                4            0.0100 -0.117156"
      ]
     },
     "execution_count": 26,
     "metadata": {},
     "output_type": "execute_result"
    }
   ],
   "source": [
    "grid_log_df"
   ]
  },
  {
   "cell_type": "code",
   "execution_count": 27,
   "id": "d95be6db",
   "metadata": {},
   "outputs": [
    {
     "data": {
      "text/html": [
       "<div>\n",
       "<style scoped>\n",
       "    .dataframe tbody tr th:only-of-type {\n",
       "        vertical-align: middle;\n",
       "    }\n",
       "\n",
       "    .dataframe tbody tr th {\n",
       "        vertical-align: top;\n",
       "    }\n",
       "\n",
       "    .dataframe thead th {\n",
       "        text-align: right;\n",
       "    }\n",
       "</style>\n",
       "<table border=\"1\" class=\"dataframe\">\n",
       "  <thead>\n",
       "    <tr style=\"text-align: right;\">\n",
       "      <th></th>\n",
       "      <th>Training set</th>\n",
       "      <th>Test set</th>\n",
       "    </tr>\n",
       "  </thead>\n",
       "  <tbody>\n",
       "    <tr>\n",
       "      <th>RSME</th>\n",
       "      <td>0.111642</td>\n",
       "      <td>0.111737</td>\n",
       "    </tr>\n",
       "    <tr>\n",
       "      <th>MAE</th>\n",
       "      <td>0.085366</td>\n",
       "      <td>0.085409</td>\n",
       "    </tr>\n",
       "  </tbody>\n",
       "</table>\n",
       "</div>"
      ],
      "text/plain": [
       "      Training set  Test set\n",
       "RSME      0.111642  0.111737\n",
       "MAE       0.085366  0.085409"
      ]
     },
     "execution_count": 27,
     "metadata": {},
     "output_type": "execute_result"
    }
   ],
   "source": [
    "# These are the transformed values!!!\n",
    "yellowcab.model.test_regression_model(grid_log, X_train, X_test, y_train_log, y_test_log)"
   ]
  },
  {
   "cell_type": "code",
   "execution_count": 28,
   "id": "16a90428",
   "metadata": {},
   "outputs": [],
   "source": [
    "y_test_pred_log = grid_log.predict(X_test)\n",
    "y_test_pred_trans = y_scaler.inverse_transform(y_test_pred_log.reshape(-1, 1))"
   ]
  },
  {
   "cell_type": "code",
   "execution_count": 29,
   "id": "8acb9bed",
   "metadata": {},
   "outputs": [],
   "source": [
    "y_train_pred_log = grid_log.predict(X_train)\n",
    "y_train_pred_trans = y_scaler.inverse_transform(y_train_pred_log.reshape(-1, 1))"
   ]
  },
  {
   "cell_type": "code",
   "execution_count": 30,
   "id": "1b03f05d",
   "metadata": {},
   "outputs": [],
   "source": [
    "y_train_trans = y_scaler.inverse_transform(y_train_log.reshape(-1, 1))"
   ]
  },
  {
   "cell_type": "code",
   "execution_count": 31,
   "id": "b0792fbd",
   "metadata": {},
   "outputs": [],
   "source": [
    "train = []\n",
    "\n",
    "train.append(np.sqrt(metrics.mean_squared_error(y_train_log, y_train_pred_trans)))\n",
    "train.append(metrics.mean_absolute_error(y_train_log, y_train_pred_trans))\n",
    "\n",
    "test = []\n",
    "\n",
    "test.append(np.sqrt(metrics.mean_squared_error(y_test_log, y_test_pred_trans)))\n",
    "test.append(metrics.mean_absolute_error(y_test_log, y_test_pred_trans))\n",
    "\n",
    "log_result = pd.DataFrame(data={'Training set': train, 'Test set': test})\n",
    "log_result.rename(index={0: \"RSME\", 1:\"MAE\"}, inplace=True)"
   ]
  },
  {
   "cell_type": "code",
   "execution_count": 32,
   "id": "85f39029",
   "metadata": {},
   "outputs": [
    {
     "data": {
      "text/html": [
       "<div>\n",
       "<style scoped>\n",
       "    .dataframe tbody tr th:only-of-type {\n",
       "        vertical-align: middle;\n",
       "    }\n",
       "\n",
       "    .dataframe tbody tr th {\n",
       "        vertical-align: top;\n",
       "    }\n",
       "\n",
       "    .dataframe thead th {\n",
       "        text-align: right;\n",
       "    }\n",
       "</style>\n",
       "<table border=\"1\" class=\"dataframe\">\n",
       "  <thead>\n",
       "    <tr style=\"text-align: right;\">\n",
       "      <th></th>\n",
       "      <th>Training set</th>\n",
       "      <th>Test set</th>\n",
       "    </tr>\n",
       "  </thead>\n",
       "  <tbody>\n",
       "    <tr>\n",
       "      <th>RSME</th>\n",
       "      <td>4.689379</td>\n",
       "      <td>4.69156</td>\n",
       "    </tr>\n",
       "    <tr>\n",
       "      <th>MAE</th>\n",
       "      <td>3.588833</td>\n",
       "      <td>3.59053</td>\n",
       "    </tr>\n",
       "  </tbody>\n",
       "</table>\n",
       "</div>"
      ],
      "text/plain": [
       "      Training set  Test set\n",
       "RSME      4.689379   4.69156\n",
       "MAE       3.588833   3.59053"
      ]
     },
     "execution_count": 32,
     "metadata": {},
     "output_type": "execute_result"
    }
   ],
   "source": [
    "log_result"
   ]
  },
  {
   "cell_type": "code",
   "execution_count": 33,
   "id": "3e123257",
   "metadata": {},
   "outputs": [
    {
     "data": {
      "text/html": [
       "<div>\n",
       "<style scoped>\n",
       "    .dataframe tbody tr th:only-of-type {\n",
       "        vertical-align: middle;\n",
       "    }\n",
       "\n",
       "    .dataframe tbody tr th {\n",
       "        vertical-align: top;\n",
       "    }\n",
       "\n",
       "    .dataframe thead th {\n",
       "        text-align: right;\n",
       "    }\n",
       "</style>\n",
       "<table border=\"1\" class=\"dataframe\">\n",
       "  <thead>\n",
       "    <tr style=\"text-align: right;\">\n",
       "      <th></th>\n",
       "      <th>trip_distance</th>\n",
       "    </tr>\n",
       "  </thead>\n",
       "  <tbody>\n",
       "    <tr>\n",
       "      <th>7310463</th>\n",
       "      <td>16.00</td>\n",
       "    </tr>\n",
       "    <tr>\n",
       "      <th>6832634</th>\n",
       "      <td>18.09</td>\n",
       "    </tr>\n",
       "    <tr>\n",
       "      <th>4962597</th>\n",
       "      <td>2.18</td>\n",
       "    </tr>\n",
       "    <tr>\n",
       "      <th>4095888</th>\n",
       "      <td>3.20</td>\n",
       "    </tr>\n",
       "    <tr>\n",
       "      <th>3381460</th>\n",
       "      <td>2.30</td>\n",
       "    </tr>\n",
       "    <tr>\n",
       "      <th>...</th>\n",
       "      <td>...</td>\n",
       "    </tr>\n",
       "    <tr>\n",
       "      <th>2166136</th>\n",
       "      <td>14.36</td>\n",
       "    </tr>\n",
       "    <tr>\n",
       "      <th>2697991</th>\n",
       "      <td>1.46</td>\n",
       "    </tr>\n",
       "    <tr>\n",
       "      <th>3759190</th>\n",
       "      <td>3.42</td>\n",
       "    </tr>\n",
       "    <tr>\n",
       "      <th>996696</th>\n",
       "      <td>0.80</td>\n",
       "    </tr>\n",
       "    <tr>\n",
       "      <th>6788503</th>\n",
       "      <td>28.00</td>\n",
       "    </tr>\n",
       "  </tbody>\n",
       "</table>\n",
       "<p>160000 rows × 1 columns</p>\n",
       "</div>"
      ],
      "text/plain": [
       "         trip_distance\n",
       "7310463          16.00\n",
       "6832634          18.09\n",
       "4962597           2.18\n",
       "4095888           3.20\n",
       "3381460           2.30\n",
       "...                ...\n",
       "2166136          14.36\n",
       "2697991           1.46\n",
       "3759190           3.42\n",
       "996696            0.80\n",
       "6788503          28.00\n",
       "\n",
       "[160000 rows x 1 columns]"
      ]
     },
     "execution_count": 33,
     "metadata": {},
     "output_type": "execute_result"
    }
   ],
   "source": [
    "pd.DataFrame(y_train)"
   ]
  },
  {
   "cell_type": "code",
   "execution_count": 34,
   "id": "5e400307",
   "metadata": {},
   "outputs": [
    {
     "data": {
      "text/html": [
       "<div>\n",
       "<style scoped>\n",
       "    .dataframe tbody tr th:only-of-type {\n",
       "        vertical-align: middle;\n",
       "    }\n",
       "\n",
       "    .dataframe tbody tr th {\n",
       "        vertical-align: top;\n",
       "    }\n",
       "\n",
       "    .dataframe thead th {\n",
       "        text-align: right;\n",
       "    }\n",
       "</style>\n",
       "<table border=\"1\" class=\"dataframe\">\n",
       "  <thead>\n",
       "    <tr style=\"text-align: right;\">\n",
       "      <th></th>\n",
       "      <th>0</th>\n",
       "    </tr>\n",
       "  </thead>\n",
       "  <tbody>\n",
       "    <tr>\n",
       "      <th>0</th>\n",
       "      <td>14.702276</td>\n",
       "    </tr>\n",
       "    <tr>\n",
       "      <th>1</th>\n",
       "      <td>13.735904</td>\n",
       "    </tr>\n",
       "    <tr>\n",
       "      <th>2</th>\n",
       "      <td>1.712152</td>\n",
       "    </tr>\n",
       "    <tr>\n",
       "      <th>3</th>\n",
       "      <td>1.795155</td>\n",
       "    </tr>\n",
       "    <tr>\n",
       "      <th>4</th>\n",
       "      <td>2.286003</td>\n",
       "    </tr>\n",
       "    <tr>\n",
       "      <th>...</th>\n",
       "      <td>...</td>\n",
       "    </tr>\n",
       "    <tr>\n",
       "      <th>159995</th>\n",
       "      <td>12.563596</td>\n",
       "    </tr>\n",
       "    <tr>\n",
       "      <th>159996</th>\n",
       "      <td>2.514922</td>\n",
       "    </tr>\n",
       "    <tr>\n",
       "      <th>159997</th>\n",
       "      <td>1.958878</td>\n",
       "    </tr>\n",
       "    <tr>\n",
       "      <th>159998</th>\n",
       "      <td>1.649778</td>\n",
       "    </tr>\n",
       "    <tr>\n",
       "      <th>159999</th>\n",
       "      <td>12.217532</td>\n",
       "    </tr>\n",
       "  </tbody>\n",
       "</table>\n",
       "<p>160000 rows × 1 columns</p>\n",
       "</div>"
      ],
      "text/plain": [
       "                0\n",
       "0       14.702276\n",
       "1       13.735904\n",
       "2        1.712152\n",
       "3        1.795155\n",
       "4        2.286003\n",
       "...           ...\n",
       "159995  12.563596\n",
       "159996   2.514922\n",
       "159997   1.958878\n",
       "159998   1.649778\n",
       "159999  12.217532\n",
       "\n",
       "[160000 rows x 1 columns]"
      ]
     },
     "execution_count": 34,
     "metadata": {},
     "output_type": "execute_result"
    }
   ],
   "source": [
    "pd.DataFrame(y_train_pred_trans)"
   ]
  }
 ],
 "metadata": {
  "kernelspec": {
   "display_name": "Python 3",
   "language": "python",
   "name": "python3"
  },
  "language_info": {
   "codemirror_mode": {
    "name": "ipython",
    "version": 3
   },
   "file_extension": ".py",
   "mimetype": "text/x-python",
   "name": "python",
   "nbconvert_exporter": "python",
   "pygments_lexer": "ipython3",
   "version": "3.8.10"
  }
 },
 "nbformat": 4,
 "nbformat_minor": 5
}
