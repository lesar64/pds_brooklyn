{
 "cells": [
  {
   "cell_type": "code",
   "execution_count": 5,
   "id": "equal-rover",
   "metadata": {},
   "outputs": [],
   "source": [
    "import pandas as pd\n",
    "import numpy as np\n",
    "import matplotlib.pyplot as plt"
   ]
  },
  {
   "cell_type": "code",
   "execution_count": 89,
   "id": "respective-madagascar",
   "metadata": {},
   "outputs": [],
   "source": [
    "taxi_zones_csv = pd.read_csv(\"../data/input/taxi_zones/taxi_zones.csv\", index_col='LocationID')\n",
    "taxi_zones_geojson = pd.read_json(\"../data/input/taxi_zones/taxi_zones.geojson\")"
   ]
  },
  {
   "cell_type": "code",
   "execution_count": 90,
   "id": "living-martin",
   "metadata": {},
   "outputs": [
    {
     "data": {
      "text/html": [
       "<div>\n",
       "<style scoped>\n",
       "    .dataframe tbody tr th:only-of-type {\n",
       "        vertical-align: middle;\n",
       "    }\n",
       "\n",
       "    .dataframe tbody tr th {\n",
       "        vertical-align: top;\n",
       "    }\n",
       "\n",
       "    .dataframe thead th {\n",
       "        text-align: right;\n",
       "    }\n",
       "</style>\n",
       "<table border=\"1\" class=\"dataframe\">\n",
       "  <thead>\n",
       "    <tr style=\"text-align: right;\">\n",
       "      <th></th>\n",
       "      <th>Borough</th>\n",
       "      <th>Zone</th>\n",
       "      <th>service_zone</th>\n",
       "    </tr>\n",
       "    <tr>\n",
       "      <th>LocationID</th>\n",
       "      <th></th>\n",
       "      <th></th>\n",
       "      <th></th>\n",
       "    </tr>\n",
       "  </thead>\n",
       "  <tbody>\n",
       "    <tr>\n",
       "      <th>1</th>\n",
       "      <td>EWR</td>\n",
       "      <td>Newark Airport</td>\n",
       "      <td>EWR</td>\n",
       "    </tr>\n",
       "    <tr>\n",
       "      <th>2</th>\n",
       "      <td>Queens</td>\n",
       "      <td>Jamaica Bay</td>\n",
       "      <td>Boro Zone</td>\n",
       "    </tr>\n",
       "    <tr>\n",
       "      <th>3</th>\n",
       "      <td>Bronx</td>\n",
       "      <td>Allerton/Pelham Gardens</td>\n",
       "      <td>Boro Zone</td>\n",
       "    </tr>\n",
       "    <tr>\n",
       "      <th>4</th>\n",
       "      <td>Manhattan</td>\n",
       "      <td>Alphabet City</td>\n",
       "      <td>Yellow Zone</td>\n",
       "    </tr>\n",
       "    <tr>\n",
       "      <th>5</th>\n",
       "      <td>Staten Island</td>\n",
       "      <td>Arden Heights</td>\n",
       "      <td>Boro Zone</td>\n",
       "    </tr>\n",
       "    <tr>\n",
       "      <th>...</th>\n",
       "      <td>...</td>\n",
       "      <td>...</td>\n",
       "      <td>...</td>\n",
       "    </tr>\n",
       "    <tr>\n",
       "      <th>261</th>\n",
       "      <td>Manhattan</td>\n",
       "      <td>World Trade Center</td>\n",
       "      <td>Yellow Zone</td>\n",
       "    </tr>\n",
       "    <tr>\n",
       "      <th>262</th>\n",
       "      <td>Manhattan</td>\n",
       "      <td>Yorkville East</td>\n",
       "      <td>Yellow Zone</td>\n",
       "    </tr>\n",
       "    <tr>\n",
       "      <th>263</th>\n",
       "      <td>Manhattan</td>\n",
       "      <td>Yorkville West</td>\n",
       "      <td>Yellow Zone</td>\n",
       "    </tr>\n",
       "    <tr>\n",
       "      <th>264</th>\n",
       "      <td>Unknown</td>\n",
       "      <td>NV</td>\n",
       "      <td>NaN</td>\n",
       "    </tr>\n",
       "    <tr>\n",
       "      <th>265</th>\n",
       "      <td>Unknown</td>\n",
       "      <td>NaN</td>\n",
       "      <td>NaN</td>\n",
       "    </tr>\n",
       "  </tbody>\n",
       "</table>\n",
       "<p>265 rows × 3 columns</p>\n",
       "</div>"
      ],
      "text/plain": [
       "                  Borough                     Zone service_zone\n",
       "LocationID                                                     \n",
       "1                     EWR           Newark Airport          EWR\n",
       "2                  Queens              Jamaica Bay    Boro Zone\n",
       "3                   Bronx  Allerton/Pelham Gardens    Boro Zone\n",
       "4               Manhattan            Alphabet City  Yellow Zone\n",
       "5           Staten Island            Arden Heights    Boro Zone\n",
       "...                   ...                      ...          ...\n",
       "261             Manhattan       World Trade Center  Yellow Zone\n",
       "262             Manhattan           Yorkville East  Yellow Zone\n",
       "263             Manhattan           Yorkville West  Yellow Zone\n",
       "264               Unknown                       NV          NaN\n",
       "265               Unknown                      NaN          NaN\n",
       "\n",
       "[265 rows x 3 columns]"
      ]
     },
     "execution_count": 90,
     "metadata": {},
     "output_type": "execute_result"
    }
   ],
   "source": [
    "taxi_zones_csv"
   ]
  },
  {
   "cell_type": "code",
   "execution_count": 103,
   "id": "tribal-guidance",
   "metadata": {
    "scrolled": true
   },
   "outputs": [
    {
     "data": {
      "text/html": [
       "<div>\n",
       "<style scoped>\n",
       "    .dataframe tbody tr th:only-of-type {\n",
       "        vertical-align: middle;\n",
       "    }\n",
       "\n",
       "    .dataframe tbody tr th {\n",
       "        vertical-align: top;\n",
       "    }\n",
       "\n",
       "    .dataframe thead th {\n",
       "        text-align: right;\n",
       "    }\n",
       "</style>\n",
       "<table border=\"1\" class=\"dataframe\">\n",
       "  <thead>\n",
       "    <tr style=\"text-align: right;\">\n",
       "      <th></th>\n",
       "      <th>Zone</th>\n",
       "    </tr>\n",
       "    <tr>\n",
       "      <th>LocationID</th>\n",
       "      <th></th>\n",
       "    </tr>\n",
       "  </thead>\n",
       "  <tbody>\n",
       "    <tr>\n",
       "      <th>11</th>\n",
       "      <td>Bath Beach</td>\n",
       "    </tr>\n",
       "    <tr>\n",
       "      <th>14</th>\n",
       "      <td>Bay Ridge</td>\n",
       "    </tr>\n",
       "    <tr>\n",
       "      <th>17</th>\n",
       "      <td>Bedford</td>\n",
       "    </tr>\n",
       "    <tr>\n",
       "      <th>21</th>\n",
       "      <td>Bensonhurst East</td>\n",
       "    </tr>\n",
       "    <tr>\n",
       "      <th>22</th>\n",
       "      <td>Bensonhurst West</td>\n",
       "    </tr>\n",
       "    <tr>\n",
       "      <th>...</th>\n",
       "      <td>...</td>\n",
       "    </tr>\n",
       "    <tr>\n",
       "      <th>227</th>\n",
       "      <td>Sunset Park East</td>\n",
       "    </tr>\n",
       "    <tr>\n",
       "      <th>228</th>\n",
       "      <td>Sunset Park West</td>\n",
       "    </tr>\n",
       "    <tr>\n",
       "      <th>255</th>\n",
       "      <td>Williamsburg (North Side)</td>\n",
       "    </tr>\n",
       "    <tr>\n",
       "      <th>256</th>\n",
       "      <td>Williamsburg (South Side)</td>\n",
       "    </tr>\n",
       "    <tr>\n",
       "      <th>257</th>\n",
       "      <td>Windsor Terrace</td>\n",
       "    </tr>\n",
       "  </tbody>\n",
       "</table>\n",
       "<p>61 rows × 1 columns</p>\n",
       "</div>"
      ],
      "text/plain": [
       "                                 Zone\n",
       "LocationID                           \n",
       "11                         Bath Beach\n",
       "14                          Bay Ridge\n",
       "17                            Bedford\n",
       "21                   Bensonhurst East\n",
       "22                   Bensonhurst West\n",
       "...                               ...\n",
       "227                  Sunset Park East\n",
       "228                  Sunset Park West\n",
       "255         Williamsburg (North Side)\n",
       "256         Williamsburg (South Side)\n",
       "257                   Windsor Terrace\n",
       "\n",
       "[61 rows x 1 columns]"
      ]
     },
     "execution_count": 103,
     "metadata": {},
     "output_type": "execute_result"
    }
   ],
   "source": [
    "# taxi_zones_csv.groupby('Brooklyn', axis=0)\n",
    "taxi_zones_fil = taxi_zones_csv.loc[taxi_zones_csv['Borough'] == 'Brooklyn'].drop('Borough', axis=1).drop('service_zone', axis=1)\n",
    "taxi_zones_fil"
   ]
  },
  {
   "cell_type": "code",
   "execution_count": 127,
   "id": "interpreted-motorcycle",
   "metadata": {},
   "outputs": [
    {
     "data": {
      "text/plain": [
       "False"
      ]
     },
     "execution_count": 127,
     "metadata": {},
     "output_type": "execute_result"
    }
   ],
   "source": [
    "taxi_zones_geojson['features'][0]['properties']['borough'] == 'Brooklyn'\n"
   ]
  },
  {
   "cell_type": "code",
   "execution_count": 128,
   "id": "explicit-helen",
   "metadata": {
    "scrolled": true
   },
   "outputs": [
    {
     "data": {
      "text/html": [
       "<div>\n",
       "<style scoped>\n",
       "    .dataframe tbody tr th:only-of-type {\n",
       "        vertical-align: middle;\n",
       "    }\n",
       "\n",
       "    .dataframe tbody tr th {\n",
       "        vertical-align: top;\n",
       "    }\n",
       "\n",
       "    .dataframe thead th {\n",
       "        text-align: right;\n",
       "    }\n",
       "</style>\n",
       "<table border=\"1\" class=\"dataframe\">\n",
       "  <thead>\n",
       "    <tr style=\"text-align: right;\">\n",
       "      <th></th>\n",
       "      <th>type</th>\n",
       "      <th>name</th>\n",
       "      <th>features</th>\n",
       "    </tr>\n",
       "  </thead>\n",
       "  <tbody>\n",
       "    <tr>\n",
       "      <th>0</th>\n",
       "      <td>FeatureCollection</td>\n",
       "      <td>taxi_zones</td>\n",
       "      <td>{'type': 'Feature', 'properties': {'OBJECTID':...</td>\n",
       "    </tr>\n",
       "    <tr>\n",
       "      <th>1</th>\n",
       "      <td>FeatureCollection</td>\n",
       "      <td>taxi_zones</td>\n",
       "      <td>{'type': 'Feature', 'properties': {'OBJECTID':...</td>\n",
       "    </tr>\n",
       "    <tr>\n",
       "      <th>2</th>\n",
       "      <td>FeatureCollection</td>\n",
       "      <td>taxi_zones</td>\n",
       "      <td>{'type': 'Feature', 'properties': {'OBJECTID':...</td>\n",
       "    </tr>\n",
       "    <tr>\n",
       "      <th>3</th>\n",
       "      <td>FeatureCollection</td>\n",
       "      <td>taxi_zones</td>\n",
       "      <td>{'type': 'Feature', 'properties': {'OBJECTID':...</td>\n",
       "    </tr>\n",
       "    <tr>\n",
       "      <th>4</th>\n",
       "      <td>FeatureCollection</td>\n",
       "      <td>taxi_zones</td>\n",
       "      <td>{'type': 'Feature', 'properties': {'OBJECTID':...</td>\n",
       "    </tr>\n",
       "    <tr>\n",
       "      <th>...</th>\n",
       "      <td>...</td>\n",
       "      <td>...</td>\n",
       "      <td>...</td>\n",
       "    </tr>\n",
       "    <tr>\n",
       "      <th>258</th>\n",
       "      <td>FeatureCollection</td>\n",
       "      <td>taxi_zones</td>\n",
       "      <td>{'type': 'Feature', 'properties': {'OBJECTID':...</td>\n",
       "    </tr>\n",
       "    <tr>\n",
       "      <th>259</th>\n",
       "      <td>FeatureCollection</td>\n",
       "      <td>taxi_zones</td>\n",
       "      <td>{'type': 'Feature', 'properties': {'OBJECTID':...</td>\n",
       "    </tr>\n",
       "    <tr>\n",
       "      <th>260</th>\n",
       "      <td>FeatureCollection</td>\n",
       "      <td>taxi_zones</td>\n",
       "      <td>{'type': 'Feature', 'properties': {'OBJECTID':...</td>\n",
       "    </tr>\n",
       "    <tr>\n",
       "      <th>261</th>\n",
       "      <td>FeatureCollection</td>\n",
       "      <td>taxi_zones</td>\n",
       "      <td>{'type': 'Feature', 'properties': {'OBJECTID':...</td>\n",
       "    </tr>\n",
       "    <tr>\n",
       "      <th>262</th>\n",
       "      <td>FeatureCollection</td>\n",
       "      <td>taxi_zones</td>\n",
       "      <td>{'type': 'Feature', 'properties': {'OBJECTID':...</td>\n",
       "    </tr>\n",
       "  </tbody>\n",
       "</table>\n",
       "<p>263 rows × 3 columns</p>\n",
       "</div>"
      ],
      "text/plain": [
       "                  type        name  \\\n",
       "0    FeatureCollection  taxi_zones   \n",
       "1    FeatureCollection  taxi_zones   \n",
       "2    FeatureCollection  taxi_zones   \n",
       "3    FeatureCollection  taxi_zones   \n",
       "4    FeatureCollection  taxi_zones   \n",
       "..                 ...         ...   \n",
       "258  FeatureCollection  taxi_zones   \n",
       "259  FeatureCollection  taxi_zones   \n",
       "260  FeatureCollection  taxi_zones   \n",
       "261  FeatureCollection  taxi_zones   \n",
       "262  FeatureCollection  taxi_zones   \n",
       "\n",
       "                                              features  \n",
       "0    {'type': 'Feature', 'properties': {'OBJECTID':...  \n",
       "1    {'type': 'Feature', 'properties': {'OBJECTID':...  \n",
       "2    {'type': 'Feature', 'properties': {'OBJECTID':...  \n",
       "3    {'type': 'Feature', 'properties': {'OBJECTID':...  \n",
       "4    {'type': 'Feature', 'properties': {'OBJECTID':...  \n",
       "..                                                 ...  \n",
       "258  {'type': 'Feature', 'properties': {'OBJECTID':...  \n",
       "259  {'type': 'Feature', 'properties': {'OBJECTID':...  \n",
       "260  {'type': 'Feature', 'properties': {'OBJECTID':...  \n",
       "261  {'type': 'Feature', 'properties': {'OBJECTID':...  \n",
       "262  {'type': 'Feature', 'properties': {'OBJECTID':...  \n",
       "\n",
       "[263 rows x 3 columns]"
      ]
     },
     "execution_count": 128,
     "metadata": {},
     "output_type": "execute_result"
    }
   ],
   "source": [
    "taxi_zones_geojson"
   ]
  },
  {
   "cell_type": "code",
   "execution_count": 125,
   "id": "lovely-combining",
   "metadata": {
    "scrolled": false
   },
   "outputs": [
    {
     "data": {
      "text/plain": [
       "[933100.9183527103, 192536.08569720192]"
      ]
     },
     "execution_count": 125,
     "metadata": {},
     "output_type": "execute_result"
    }
   ],
   "source": [
    "# access coordinates\n",
    "taxi_zones_geojson['features'][0]['geometry']['coordinates'][0][0]"
   ]
  },
  {
   "cell_type": "code",
   "execution_count": 29,
   "id": "accessible-guitar",
   "metadata": {},
   "outputs": [],
   "source": [
    "# read in trip data\n",
    "trip_data1 = pd.read_parquet(\"../data/input/trip_data/01.parquet\")\n",
    "trip_data2 = pd.read_parquet(\"../data/input/trip_data/02.parquet\")\n",
    "trip_data3 = pd.read_parquet(\"../data/input/trip_data/03.parquet\")\n",
    "trip_data4 = pd.read_parquet(\"../data/input/trip_data/04.parquet\")\n",
    "trip_data5 = pd.read_parquet(\"../data/input/trip_data/05.parquet\")\n",
    "trip_data6 = pd.read_parquet(\"../data/input/trip_data/06.parquet\")\n",
    "trip_data7 = pd.read_parquet(\"../data/input/trip_data/07.parquet\")\n",
    "trip_data8 = pd.read_parquet(\"../data/input/trip_data/08.parquet\")\n",
    "trip_data9 = pd.read_parquet(\"../data/input/trip_data/09.parquet\")\n",
    "trip_data10 = pd.read_parquet(\"../data/input/trip_data/10.parquet\")\n",
    "trip_data11 = pd.read_parquet(\"../data/input/trip_data/11.parquet\")\n",
    "trip_data12 = pd.read_parquet(\"../data/input/trip_data/12.parquet\")\n",
    "\n",
    "# had to install pyarrow via pip install and fastparquet"
   ]
  },
  {
   "cell_type": "code",
   "execution_count": 122,
   "id": "double-taylor",
   "metadata": {},
   "outputs": [
    {
     "data": {
      "text/plain": [
       "Index(['type', 'name', 'features'], dtype='object')"
      ]
     },
     "execution_count": 122,
     "metadata": {},
     "output_type": "execute_result"
    }
   ],
   "source": [
    "taxi_zones_geojson.columns"
   ]
  },
  {
   "cell_type": "code",
   "execution_count": 6,
   "id": "earlier-throat",
   "metadata": {
    "scrolled": true
   },
   "outputs": [
    {
     "name": "stdout",
     "output_type": "stream",
     "text": [
      "<class 'pandas.core.frame.DataFrame'>\n",
      "Int64Index: 6339567 entries, 0 to 6339566\n",
      "Data columns (total 16 columns):\n",
      " #   Column                 Dtype         \n",
      "---  ------                 -----         \n",
      " 0   tpep_pickup_datetime   datetime64[ns]\n",
      " 1   tpep_dropoff_datetime  datetime64[ns]\n",
      " 2   passenger_count        float64       \n",
      " 3   trip_distance          float64       \n",
      " 4   RatecodeID             float64       \n",
      " 5   PULocationID           int64         \n",
      " 6   DOLocationID           int64         \n",
      " 7   payment_type           float64       \n",
      " 8   fare_amount            float64       \n",
      " 9   extra                  float64       \n",
      " 10  mta_tax                float64       \n",
      " 11  tip_amount             float64       \n",
      " 12  tolls_amount           float64       \n",
      " 13  improvement_surcharge  float64       \n",
      " 14  total_amount           float64       \n",
      " 15  congestion_surcharge   float64       \n",
      "dtypes: datetime64[ns](2), float64(12), int64(2)\n",
      "memory usage: 822.2 MB\n"
     ]
    }
   ],
   "source": [
    "trip_data1.info()"
   ]
  },
  {
   "cell_type": "markdown",
   "id": "growing-tradition",
   "metadata": {},
   "source": [
    "## 1 Exploration and Description\n",
    "### a) Explain the data types in different columns of your dataset. Are all numeric columns actually numbers, or are there categories?\n",
    "https://www1.nyc.gov/assets/tlc/downloads/pdf/data_dictionary_trip_records_yellow.pdf\n",
    "Technically the data types are numerical except for the pickup_datetime and the dropoff_datetime. \n",
    "But on a detailed look there are some categories:\n",
    "\n",
    "    PULocationID: TLC Taxi Zone in which the taximeter was engaged\n",
    "    \n",
    "    DOLocationID: TLC Taxi Zone in which the taximeter was disengaged\n",
    "    \n",
    "    RateCodeID:   The final rate code in effect at the end of the trip.\n",
    "                    1 = Standard rate\n",
    "                    2 = JFK\n",
    "                    3 = Newark\n",
    "                    4 = Nassau or Westchester\n",
    "                    5 = Negotiated fare\n",
    "                    6 = Group ride\n",
    "                    \n",
    "    payment_type: Payment_type A numeric code signifying how the passenger paid for the trip.\n",
    "                    1 = Credit card\n",
    "                    2 = Cash\n",
    "                    3 = No charge\n",
    "                    4 = Dispute\n",
    "                    5 = Unknown\n",
    "                    6 = Voided trip\n",
    "                    \n",
    "    fare_amout:   The time-and-distance fare calculated by the meter.\n",
    "    \n",
    "    ..."
   ]
  },
  {
   "cell_type": "code",
   "execution_count": 35,
   "id": "later-proposal",
   "metadata": {},
   "outputs": [
    {
     "data": {
      "text/plain": [
       "array([ 1.,  5.,  4.,  2.,  3., 99.,  6.])"
      ]
     },
     "execution_count": 35,
     "metadata": {},
     "output_type": "execute_result"
    }
   ],
   "source": [
    "trip_data4[\"RatecodeID\"].unique()"
   ]
  },
  {
   "cell_type": "markdown",
   "id": "bulgarian-press",
   "metadata": {},
   "source": []
  },
  {
   "cell_type": "markdown",
   "id": "coordinated-anniversary",
   "metadata": {},
   "source": [
    "### b) In the dataset, you find the two columns “PULocationID” and “DOLocationID”. What exactly do they describe? Using the provided taxi_zones data and respective geo data packages, find the centers of the respective areas. (You might need some research to find the right functions, if you are stuck here, contact me)."
   ]
  },
  {
   "cell_type": "code",
   "execution_count": 36,
   "id": "contemporary-criminal",
   "metadata": {},
   "outputs": [],
   "source": [
    "import folium"
   ]
  },
  {
   "cell_type": "code",
   "execution_count": 53,
   "id": "christian-blink",
   "metadata": {},
   "outputs": [
    {
     "data": {
      "text/html": [
       "<div style=\"width:100%;\"><div style=\"position:relative;width:100%;height:0;padding-bottom:60%;\"><span style=\"color:#565656\">Make this Notebook Trusted to load map: File -> Trust Notebook</span><iframe src=\"about:blank\" style=\"position:absolute;width:100%;height:100%;left:0;top:0;border:none !important;\" data-html=%3C%21DOCTYPE%20html%3E%0A%3Chead%3E%20%20%20%20%0A%20%20%20%20%3Cmeta%20http-equiv%3D%22content-type%22%20content%3D%22text/html%3B%20charset%3DUTF-8%22%20/%3E%0A%20%20%20%20%0A%20%20%20%20%20%20%20%20%3Cscript%3E%0A%20%20%20%20%20%20%20%20%20%20%20%20L_NO_TOUCH%20%3D%20false%3B%0A%20%20%20%20%20%20%20%20%20%20%20%20L_DISABLE_3D%20%3D%20false%3B%0A%20%20%20%20%20%20%20%20%3C/script%3E%0A%20%20%20%20%0A%20%20%20%20%3Cstyle%3Ehtml%2C%20body%20%7Bwidth%3A%20100%25%3Bheight%3A%20100%25%3Bmargin%3A%200%3Bpadding%3A%200%3B%7D%3C/style%3E%0A%20%20%20%20%3Cstyle%3E%23map%20%7Bposition%3Aabsolute%3Btop%3A0%3Bbottom%3A0%3Bright%3A0%3Bleft%3A0%3B%7D%3C/style%3E%0A%20%20%20%20%3Cscript%20src%3D%22https%3A//cdn.jsdelivr.net/npm/leaflet%401.6.0/dist/leaflet.js%22%3E%3C/script%3E%0A%20%20%20%20%3Cscript%20src%3D%22https%3A//code.jquery.com/jquery-1.12.4.min.js%22%3E%3C/script%3E%0A%20%20%20%20%3Cscript%20src%3D%22https%3A//maxcdn.bootstrapcdn.com/bootstrap/3.2.0/js/bootstrap.min.js%22%3E%3C/script%3E%0A%20%20%20%20%3Cscript%20src%3D%22https%3A//cdnjs.cloudflare.com/ajax/libs/Leaflet.awesome-markers/2.0.2/leaflet.awesome-markers.js%22%3E%3C/script%3E%0A%20%20%20%20%3Clink%20rel%3D%22stylesheet%22%20href%3D%22https%3A//cdn.jsdelivr.net/npm/leaflet%401.6.0/dist/leaflet.css%22/%3E%0A%20%20%20%20%3Clink%20rel%3D%22stylesheet%22%20href%3D%22https%3A//maxcdn.bootstrapcdn.com/bootstrap/3.2.0/css/bootstrap.min.css%22/%3E%0A%20%20%20%20%3Clink%20rel%3D%22stylesheet%22%20href%3D%22https%3A//maxcdn.bootstrapcdn.com/bootstrap/3.2.0/css/bootstrap-theme.min.css%22/%3E%0A%20%20%20%20%3Clink%20rel%3D%22stylesheet%22%20href%3D%22https%3A//maxcdn.bootstrapcdn.com/font-awesome/4.6.3/css/font-awesome.min.css%22/%3E%0A%20%20%20%20%3Clink%20rel%3D%22stylesheet%22%20href%3D%22https%3A//cdnjs.cloudflare.com/ajax/libs/Leaflet.awesome-markers/2.0.2/leaflet.awesome-markers.css%22/%3E%0A%20%20%20%20%3Clink%20rel%3D%22stylesheet%22%20href%3D%22https%3A//cdn.jsdelivr.net/gh/python-visualization/folium/folium/templates/leaflet.awesome.rotate.min.css%22/%3E%0A%20%20%20%20%0A%20%20%20%20%20%20%20%20%20%20%20%20%3Cmeta%20name%3D%22viewport%22%20content%3D%22width%3Ddevice-width%2C%0A%20%20%20%20%20%20%20%20%20%20%20%20%20%20%20%20initial-scale%3D1.0%2C%20maximum-scale%3D1.0%2C%20user-scalable%3Dno%22%20/%3E%0A%20%20%20%20%20%20%20%20%20%20%20%20%3Cstyle%3E%0A%20%20%20%20%20%20%20%20%20%20%20%20%20%20%20%20%23map_b52b6b760c4943efa92861fc31a9b4b9%20%7B%0A%20%20%20%20%20%20%20%20%20%20%20%20%20%20%20%20%20%20%20%20position%3A%20relative%3B%0A%20%20%20%20%20%20%20%20%20%20%20%20%20%20%20%20%20%20%20%20width%3A%20100.0%25%3B%0A%20%20%20%20%20%20%20%20%20%20%20%20%20%20%20%20%20%20%20%20height%3A%20100.0%25%3B%0A%20%20%20%20%20%20%20%20%20%20%20%20%20%20%20%20%20%20%20%20left%3A%200.0%25%3B%0A%20%20%20%20%20%20%20%20%20%20%20%20%20%20%20%20%20%20%20%20top%3A%200.0%25%3B%0A%20%20%20%20%20%20%20%20%20%20%20%20%20%20%20%20%7D%0A%20%20%20%20%20%20%20%20%20%20%20%20%3C/style%3E%0A%20%20%20%20%20%20%20%20%0A%3C/head%3E%0A%3Cbody%3E%20%20%20%20%0A%20%20%20%20%0A%20%20%20%20%20%20%20%20%20%20%20%20%3Cdiv%20class%3D%22folium-map%22%20id%3D%22map_b52b6b760c4943efa92861fc31a9b4b9%22%20%3E%3C/div%3E%0A%20%20%20%20%20%20%20%20%0A%3C/body%3E%0A%3Cscript%3E%20%20%20%20%0A%20%20%20%20%0A%20%20%20%20%20%20%20%20%20%20%20%20var%20map_b52b6b760c4943efa92861fc31a9b4b9%20%3D%20L.map%28%0A%20%20%20%20%20%20%20%20%20%20%20%20%20%20%20%20%22map_b52b6b760c4943efa92861fc31a9b4b9%22%2C%0A%20%20%20%20%20%20%20%20%20%20%20%20%20%20%20%20%7B%0A%20%20%20%20%20%20%20%20%20%20%20%20%20%20%20%20%20%20%20%20center%3A%20%5B40.650002%2C%20-73.949997%5D%2C%0A%20%20%20%20%20%20%20%20%20%20%20%20%20%20%20%20%20%20%20%20crs%3A%20L.CRS.EPSG3857%2C%0A%20%20%20%20%20%20%20%20%20%20%20%20%20%20%20%20%20%20%20%20zoom%3A%2012%2C%0A%20%20%20%20%20%20%20%20%20%20%20%20%20%20%20%20%20%20%20%20zoomControl%3A%20true%2C%0A%20%20%20%20%20%20%20%20%20%20%20%20%20%20%20%20%20%20%20%20preferCanvas%3A%20false%2C%0A%20%20%20%20%20%20%20%20%20%20%20%20%20%20%20%20%7D%0A%20%20%20%20%20%20%20%20%20%20%20%20%29%3B%0A%0A%20%20%20%20%20%20%20%20%20%20%20%20%0A%0A%20%20%20%20%20%20%20%20%0A%20%20%20%20%0A%20%20%20%20%20%20%20%20%20%20%20%20var%20tile_layer_d203b0de16de4fb490c5f716a1862666%20%3D%20L.tileLayer%28%0A%20%20%20%20%20%20%20%20%20%20%20%20%20%20%20%20%22https%3A//cartodb-basemaps-%7Bs%7D.global.ssl.fastly.net/light_all/%7Bz%7D/%7Bx%7D/%7By%7D.png%22%2C%0A%20%20%20%20%20%20%20%20%20%20%20%20%20%20%20%20%7B%22attribution%22%3A%20%22Map%20tiles%20by%20Carto%2C%20under%20CC%20BY%203.0.%20Data%20by%20OpenStreetMap%2C%20under%20ODbL.%22%2C%20%22detectRetina%22%3A%20false%2C%20%22maxNativeZoom%22%3A%2018%2C%20%22maxZoom%22%3A%2018%2C%20%22minZoom%22%3A%200%2C%20%22noWrap%22%3A%20false%2C%20%22opacity%22%3A%201%2C%20%22subdomains%22%3A%20%22abc%22%2C%20%22tms%22%3A%20false%7D%0A%20%20%20%20%20%20%20%20%20%20%20%20%29.addTo%28map_b52b6b760c4943efa92861fc31a9b4b9%29%3B%0A%20%20%20%20%20%20%20%20%0A%3C/script%3E onload=\"this.contentDocument.open();this.contentDocument.write(    decodeURIComponent(this.getAttribute('data-html')));this.contentDocument.close();\" allowfullscreen webkitallowfullscreen mozallowfullscreen></iframe></div></div>"
      ],
      "text/plain": [
       "<folium.folium.Map at 0x1f1c50ffaf0>"
      ]
     },
     "execution_count": 53,
     "metadata": {},
     "output_type": "execute_result"
    }
   ],
   "source": [
    "tiles='https://cartodb-basemaps-{s}.global.ssl.fastly.net/light_all/{z}/{x}/{y}.png'\n",
    "attr=\"Map tiles by Carto, under CC BY 3.0. Data by OpenStreetMap, under ODbL.\"\n",
    "m = folium.Map(location = [40.650002, -73.949997], zoom_start=12, attr=attr, tiles=tiles)\n",
    "m"
   ]
  },
  {
   "cell_type": "code",
   "execution_count": 129,
   "id": "productive-bachelor",
   "metadata": {},
   "outputs": [
    {
     "ename": "NameError",
     "evalue": "name 'states_df' is not defined",
     "output_type": "error",
     "traceback": [
      "\u001b[1;31m---------------------------------------------------------------------------\u001b[0m",
      "\u001b[1;31mNameError\u001b[0m                                 Traceback (most recent call last)",
      "\u001b[1;32m<ipython-input-129-89f5b2e4417f>\u001b[0m in \u001b[0;36m<module>\u001b[1;34m\u001b[0m\n\u001b[0;32m      1\u001b[0m folium.Choropleth(\n\u001b[0;32m      2\u001b[0m     \u001b[0mgeo_data\u001b[0m\u001b[1;33m=\u001b[0m\u001b[1;34mf\"data/states.geojson\"\u001b[0m\u001b[1;33m,\u001b[0m  \u001b[1;31m# geojson file with spatial/geographical information\u001b[0m\u001b[1;33m\u001b[0m\u001b[1;33m\u001b[0m\u001b[0m\n\u001b[1;32m----> 3\u001b[1;33m     \u001b[0mdata\u001b[0m \u001b[1;33m=\u001b[0m \u001b[0mstates_df\u001b[0m\u001b[1;33m,\u001b[0m\u001b[1;33m\u001b[0m\u001b[1;33m\u001b[0m\u001b[0m\n\u001b[0m\u001b[0;32m      4\u001b[0m     \u001b[0mcolumns\u001b[0m \u001b[1;33m=\u001b[0m \u001b[1;33m[\u001b[0m\u001b[1;34m\"States\"\u001b[0m\u001b[1;33m,\u001b[0m \u001b[1;34m\"Population\"\u001b[0m\u001b[1;33m]\u001b[0m\u001b[1;33m,\u001b[0m\u001b[1;33m\u001b[0m\u001b[1;33m\u001b[0m\u001b[0m\n\u001b[0;32m      5\u001b[0m     \u001b[0mkey_on\u001b[0m\u001b[1;33m=\u001b[0m\u001b[1;34m\"properties.NAME_1\"\u001b[0m\u001b[1;33m,\u001b[0m \u001b[1;31m# connect dataframe and geojson information\u001b[0m\u001b[1;33m\u001b[0m\u001b[1;33m\u001b[0m\u001b[0m\n",
      "\u001b[1;31mNameError\u001b[0m: name 'states_df' is not defined"
     ]
    }
   ],
   "source": [
    "folium.Choropleth(\n",
    "    geo_data=f\"data/states.geojson\",  # geojson file with spatial/geographical information\n",
    "    data = taxi_zones_csv,\n",
    "    columns = [\"States\", \"Population\"],\n",
    "    key_on=\"properties.NAME_1\", # connect dataframe and geojson information\n",
    "    fill_color='PuBuGn', # Find more here: https://github.com/dsc/colorbrewer-python\n",
    "    fill_opacity = 0.5,\n",
    "    line_opacity = 0.2, \n",
    "    legend_name=\"Population [Mio.]\").add_to(m)\n",
    "\n",
    "m"
   ]
  },
  {
   "cell_type": "code",
   "execution_count": null,
   "id": "sophisticated-qatar",
   "metadata": {},
   "outputs": [],
   "source": []
  }
 ],
 "metadata": {
  "kernelspec": {
   "display_name": "Python 3",
   "language": "python",
   "name": "python3"
  },
  "language_info": {
   "codemirror_mode": {
    "name": "ipython",
    "version": 3
   },
   "file_extension": ".py",
   "mimetype": "text/x-python",
   "name": "python",
   "nbconvert_exporter": "python",
   "pygments_lexer": "ipython3",
   "version": "3.9.4"
  }
 },
 "nbformat": 4,
 "nbformat_minor": 5
}
