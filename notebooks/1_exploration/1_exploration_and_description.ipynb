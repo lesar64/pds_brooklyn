{
 "cells": [
  {
   "cell_type": "markdown",
   "metadata": {
    "collapsed": true
   },
   "source": [
    "# Programming Data Science Project\n",
    "# 1. Exploration and Description\n",
    "## Imports"
   ]
  },
  {
   "cell_type": "code",
   "execution_count": 1,
   "outputs": [],
   "source": [
    "import yellowcab\n",
    "import pandas as pd"
   ],
   "metadata": {
    "collapsed": false,
    "pycharm": {
     "name": "#%%\n"
    }
   }
  },
  {
   "cell_type": "markdown",
   "source": [
    "## a) Column data types"
   ],
   "metadata": {
    "collapsed": false
   }
  },
  {
   "cell_type": "code",
   "execution_count": 1,
   "metadata": {},
   "outputs": [],
   "source": []
  },
  {
   "cell_type": "markdown",
   "source": [
    "## b) PULocationID, DOLocationID and taxi_zones"
   ],
   "metadata": {
    "collapsed": false
   }
  },
  {
   "cell_type": "code",
   "execution_count": 1,
   "outputs": [],
   "source": [],
   "metadata": {
    "collapsed": false,
    "pycharm": {
     "name": "#%%\n"
    }
   }
  },
  {
   "cell_type": "markdown",
   "source": [
    "## c) Filter and augment the data"
   ],
   "metadata": {
    "collapsed": false
   }
  },
  {
   "cell_type": "code",
   "execution_count": 2,
   "outputs": [
    {
     "name": "stdout",
     "output_type": "stream",
     "text": [
      "Reading the raw data\n",
      "Filtering the borough\n",
      "Adding duration for filtering\n",
      "Filtering the extreme values\n",
      "Augmenting the raw data\n"
     ]
    },
    {
     "name": "stderr",
     "output_type": "stream",
     "text": [
      "D:\\OneDrive - Universität zu Köln\\Uni\\PDS\\Code\\yellowcab\\io\\utils.py:53: UserWarning: Geometry is in a geographic CRS. Results from 'centroid' are likely incorrect. Use 'GeoSeries.to_crs()' to re-project geometries to a projected CRS before this operation.\n",
      "\n",
      "  geo_data[\"longitude\"] = gdf.centroid.x\n",
      "D:\\OneDrive - Universität zu Köln\\Uni\\PDS\\Code\\yellowcab\\io\\utils.py:54: UserWarning: Geometry is in a geographic CRS. Results from 'centroid' are likely incorrect. Use 'GeoSeries.to_crs()' to re-project geometries to a projected CRS before this operation.\n",
      "\n",
      "  geo_data[\"latitude\"] = gdf.centroid.y\n"
     ]
    },
    {
     "name": "stdout",
     "output_type": "stream",
     "text": [
      "Trips with location_id above 263 were dropped, since there is no matching geo data.\n",
      "Resetting index and saving\n",
      "Done. File is at:D:\\OneDrive - Universität zu Köln\\Uni\\PDS\\Code\\notebooks\\..\\data\\input\\trip_data\\clean_data.parquet\n"
     ]
    }
   ],
   "source": [
    "yellowcab.io.create_clean_trip_dataset(save=True)\n",
    "\n",
    "trip_data = yellowcab.io.read_all_files('parquet')"
   ],
   "metadata": {
    "collapsed": false,
    "pycharm": {
     "name": "#%%\n"
    }
   }
  },
  {
   "cell_type": "markdown",
   "source": [
    "## d) Aggregate statistics for trip duration\n",
    "### Monthly"
   ],
   "metadata": {
    "collapsed": false
   }
  },
  {
   "cell_type": "code",
   "execution_count": 3,
   "outputs": [
    {
     "data": {
      "text/plain": "             mean           std\nmonth                          \n1      910.508558    753.403614\n2      929.626968    870.966423\n3      890.360024    746.122644\n4      591.207411    581.117412\n5      655.437848    599.993095\n6      764.104979    682.512126\n7      633.737688  67220.997708\n8      796.953166    689.009177\n9      788.072901    661.149315\n10     795.238993    668.233555\n11     774.689499   1574.413122\n12     781.195004    651.578925",
      "text/html": "<div>\n<style scoped>\n    .dataframe tbody tr th:only-of-type {\n        vertical-align: middle;\n    }\n\n    .dataframe tbody tr th {\n        vertical-align: top;\n    }\n\n    .dataframe thead th {\n        text-align: right;\n    }\n</style>\n<table border=\"1\" class=\"dataframe\">\n  <thead>\n    <tr style=\"text-align: right;\">\n      <th></th>\n      <th>mean</th>\n      <th>std</th>\n    </tr>\n    <tr>\n      <th>month</th>\n      <th></th>\n      <th></th>\n    </tr>\n  </thead>\n  <tbody>\n    <tr>\n      <th>1</th>\n      <td>910.508558</td>\n      <td>753.403614</td>\n    </tr>\n    <tr>\n      <th>2</th>\n      <td>929.626968</td>\n      <td>870.966423</td>\n    </tr>\n    <tr>\n      <th>3</th>\n      <td>890.360024</td>\n      <td>746.122644</td>\n    </tr>\n    <tr>\n      <th>4</th>\n      <td>591.207411</td>\n      <td>581.117412</td>\n    </tr>\n    <tr>\n      <th>5</th>\n      <td>655.437848</td>\n      <td>599.993095</td>\n    </tr>\n    <tr>\n      <th>6</th>\n      <td>764.104979</td>\n      <td>682.512126</td>\n    </tr>\n    <tr>\n      <th>7</th>\n      <td>633.737688</td>\n      <td>67220.997708</td>\n    </tr>\n    <tr>\n      <th>8</th>\n      <td>796.953166</td>\n      <td>689.009177</td>\n    </tr>\n    <tr>\n      <th>9</th>\n      <td>788.072901</td>\n      <td>661.149315</td>\n    </tr>\n    <tr>\n      <th>10</th>\n      <td>795.238993</td>\n      <td>668.233555</td>\n    </tr>\n    <tr>\n      <th>11</th>\n      <td>774.689499</td>\n      <td>1574.413122</td>\n    </tr>\n    <tr>\n      <th>12</th>\n      <td>781.195004</td>\n      <td>651.578925</td>\n    </tr>\n  </tbody>\n</table>\n</div>"
     },
     "execution_count": 3,
     "metadata": {},
     "output_type": "execute_result"
    }
   ],
   "source": [
    "trips_monthly = pd.DataFrame()\n",
    "trips_monthly[\"mean\"] = yellowcab.io.get_stats(trip_data, stat=\"mean\")[\"duration\"]\n",
    "trips_monthly[\"std\"] = yellowcab.io.get_stats(trip_data, stat=\"std\")[\"duration\"]\n",
    "trips_monthly"
   ],
   "metadata": {
    "collapsed": false,
    "pycharm": {
     "name": "#%%\n"
    }
   }
  },
  {
   "cell_type": "markdown",
   "source": [
    "### Daily"
   ],
   "metadata": {
    "collapsed": false
   }
  },
  {
   "cell_type": "code",
   "execution_count": 4,
   "outputs": [
    {
     "data": {
      "text/plain": "               mean           std\nweekday                          \n1        880.356487   1454.845310\n2        876.106540    735.970000\n3        877.429394    727.589680\n4        913.045960    780.927459\n5        912.227117    778.287449\n6        776.070966  29688.501594\n7        806.115017   1149.557209",
      "text/html": "<div>\n<style scoped>\n    .dataframe tbody tr th:only-of-type {\n        vertical-align: middle;\n    }\n\n    .dataframe tbody tr th {\n        vertical-align: top;\n    }\n\n    .dataframe thead th {\n        text-align: right;\n    }\n</style>\n<table border=\"1\" class=\"dataframe\">\n  <thead>\n    <tr style=\"text-align: right;\">\n      <th></th>\n      <th>mean</th>\n      <th>std</th>\n    </tr>\n    <tr>\n      <th>weekday</th>\n      <th></th>\n      <th></th>\n    </tr>\n  </thead>\n  <tbody>\n    <tr>\n      <th>1</th>\n      <td>880.356487</td>\n      <td>1454.845310</td>\n    </tr>\n    <tr>\n      <th>2</th>\n      <td>876.106540</td>\n      <td>735.970000</td>\n    </tr>\n    <tr>\n      <th>3</th>\n      <td>877.429394</td>\n      <td>727.589680</td>\n    </tr>\n    <tr>\n      <th>4</th>\n      <td>913.045960</td>\n      <td>780.927459</td>\n    </tr>\n    <tr>\n      <th>5</th>\n      <td>912.227117</td>\n      <td>778.287449</td>\n    </tr>\n    <tr>\n      <th>6</th>\n      <td>776.070966</td>\n      <td>29688.501594</td>\n    </tr>\n    <tr>\n      <th>7</th>\n      <td>806.115017</td>\n      <td>1149.557209</td>\n    </tr>\n  </tbody>\n</table>\n</div>"
     },
     "execution_count": 4,
     "metadata": {},
     "output_type": "execute_result"
    }
   ],
   "source": [
    "trips_daily = pd.DataFrame()\n",
    "trips_daily[\"mean\"] = yellowcab.io.get_stats(trip_data, time='weekday', stat=\"mean\")[\"duration\"]\n",
    "trips_daily[\"std\"] = yellowcab.io.get_stats(trip_data, time='weekday', stat=\"std\")[\"duration\"]\n",
    "trips_daily"
   ],
   "metadata": {
    "collapsed": false,
    "pycharm": {
     "name": "#%%\n"
    }
   }
  },
  {
   "cell_type": "markdown",
   "source": [
    "### Hourly"
   ],
   "metadata": {
    "collapsed": false
   }
  },
  {
   "cell_type": "code",
   "execution_count": 5,
   "outputs": [
    {
     "data": {
      "text/plain": "             mean           std\nhour                           \n0      770.722838    581.589678\n1      729.401222    576.511930\n2      668.395444    507.432140\n3      670.218666   3484.723085\n4      744.513807    725.889356\n5      839.578191    735.890596\n6      790.425678   2458.947408\n7      827.309113    815.376001\n8      855.693484    800.068622\n9      827.585051    640.501126\n10     820.706991    637.067254\n11     818.559055    617.845571\n12     843.442260    656.852247\n13     889.886311    717.949368\n14     971.415760    851.018362\n15    1012.574757    911.098872\n16    1038.393927    960.269291\n17     983.157228    856.767076\n18     919.269107    743.429020\n19     842.514411   1083.712959\n20     765.802034  49330.193318\n21     822.783391    609.219958\n22     813.907276    587.011185\n23     784.906063    569.958929",
      "text/html": "<div>\n<style scoped>\n    .dataframe tbody tr th:only-of-type {\n        vertical-align: middle;\n    }\n\n    .dataframe tbody tr th {\n        vertical-align: top;\n    }\n\n    .dataframe thead th {\n        text-align: right;\n    }\n</style>\n<table border=\"1\" class=\"dataframe\">\n  <thead>\n    <tr style=\"text-align: right;\">\n      <th></th>\n      <th>mean</th>\n      <th>std</th>\n    </tr>\n    <tr>\n      <th>hour</th>\n      <th></th>\n      <th></th>\n    </tr>\n  </thead>\n  <tbody>\n    <tr>\n      <th>0</th>\n      <td>770.722838</td>\n      <td>581.589678</td>\n    </tr>\n    <tr>\n      <th>1</th>\n      <td>729.401222</td>\n      <td>576.511930</td>\n    </tr>\n    <tr>\n      <th>2</th>\n      <td>668.395444</td>\n      <td>507.432140</td>\n    </tr>\n    <tr>\n      <th>3</th>\n      <td>670.218666</td>\n      <td>3484.723085</td>\n    </tr>\n    <tr>\n      <th>4</th>\n      <td>744.513807</td>\n      <td>725.889356</td>\n    </tr>\n    <tr>\n      <th>5</th>\n      <td>839.578191</td>\n      <td>735.890596</td>\n    </tr>\n    <tr>\n      <th>6</th>\n      <td>790.425678</td>\n      <td>2458.947408</td>\n    </tr>\n    <tr>\n      <th>7</th>\n      <td>827.309113</td>\n      <td>815.376001</td>\n    </tr>\n    <tr>\n      <th>8</th>\n      <td>855.693484</td>\n      <td>800.068622</td>\n    </tr>\n    <tr>\n      <th>9</th>\n      <td>827.585051</td>\n      <td>640.501126</td>\n    </tr>\n    <tr>\n      <th>10</th>\n      <td>820.706991</td>\n      <td>637.067254</td>\n    </tr>\n    <tr>\n      <th>11</th>\n      <td>818.559055</td>\n      <td>617.845571</td>\n    </tr>\n    <tr>\n      <th>12</th>\n      <td>843.442260</td>\n      <td>656.852247</td>\n    </tr>\n    <tr>\n      <th>13</th>\n      <td>889.886311</td>\n      <td>717.949368</td>\n    </tr>\n    <tr>\n      <th>14</th>\n      <td>971.415760</td>\n      <td>851.018362</td>\n    </tr>\n    <tr>\n      <th>15</th>\n      <td>1012.574757</td>\n      <td>911.098872</td>\n    </tr>\n    <tr>\n      <th>16</th>\n      <td>1038.393927</td>\n      <td>960.269291</td>\n    </tr>\n    <tr>\n      <th>17</th>\n      <td>983.157228</td>\n      <td>856.767076</td>\n    </tr>\n    <tr>\n      <th>18</th>\n      <td>919.269107</td>\n      <td>743.429020</td>\n    </tr>\n    <tr>\n      <th>19</th>\n      <td>842.514411</td>\n      <td>1083.712959</td>\n    </tr>\n    <tr>\n      <th>20</th>\n      <td>765.802034</td>\n      <td>49330.193318</td>\n    </tr>\n    <tr>\n      <th>21</th>\n      <td>822.783391</td>\n      <td>609.219958</td>\n    </tr>\n    <tr>\n      <th>22</th>\n      <td>813.907276</td>\n      <td>587.011185</td>\n    </tr>\n    <tr>\n      <th>23</th>\n      <td>784.906063</td>\n      <td>569.958929</td>\n    </tr>\n  </tbody>\n</table>\n</div>"
     },
     "execution_count": 5,
     "metadata": {},
     "output_type": "execute_result"
    }
   ],
   "source": [
    "trips_houry = pd.DataFrame()\n",
    "trips_houry[\"mean\"] = yellowcab.io.get_stats(trip_data, time='hour', stat=\"mean\")[\"duration\"]\n",
    "trips_houry[\"std\"] = yellowcab.io.get_stats(trip_data, time='hour', stat=\"std\")[\"duration\"]\n",
    "trips_houry"
   ],
   "metadata": {
    "collapsed": false,
    "pycharm": {
     "name": "#%%\n"
    }
   }
  },
  {
   "cell_type": "markdown",
   "source": [
    "## e) NYC COVID-19 measures"
   ],
   "metadata": {
    "collapsed": false
   }
  },
  {
   "cell_type": "code",
   "execution_count": 5,
   "outputs": [],
   "source": [],
   "metadata": {
    "collapsed": false,
    "pycharm": {
     "name": "#%%\n"
    }
   }
  },
  {
   "cell_type": "markdown",
   "source": [
    "## f) Further investigation"
   ],
   "metadata": {
    "collapsed": false
   }
  },
  {
   "cell_type": "code",
   "execution_count": 5,
   "outputs": [],
   "source": [],
   "metadata": {
    "collapsed": false,
    "pycharm": {
     "name": "#%%\n"
    }
   }
  }
 ],
 "metadata": {
  "kernelspec": {
   "display_name": "Python 3",
   "language": "python",
   "name": "python3"
  },
  "language_info": {
   "codemirror_mode": {
    "name": "ipython",
    "version": 3
   },
   "file_extension": ".py",
   "mimetype": "text/x-python",
   "name": "python",
   "nbconvert_exporter": "python",
   "pygments_lexer": "ipython3",
   "version": "3.7.5"
  }
 },
 "nbformat": 4,
 "nbformat_minor": 1
}