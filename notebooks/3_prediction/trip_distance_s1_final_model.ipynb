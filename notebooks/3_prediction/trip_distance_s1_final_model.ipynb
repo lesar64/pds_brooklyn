{
 "cells": [
  {
   "cell_type": "code",
   "execution_count": 1,
   "id": "3b1f5700",
   "metadata": {},
   "outputs": [],
   "source": [
    "# Compare Algorithms\n",
    "import yellowcab\n",
    "import pandas as pd\n",
    "import matplotlib.pyplot as plt\n",
    "import numpy as np\n",
    "import seaborn as sns\n",
    "from datetime import datetime\n",
    "\n",
    "from sklearn.model_selection import train_test_split, GridSearchCV, KFold\n",
    "from sklearn.compose import ColumnTransformer\n",
    "from sklearn.pipeline import Pipeline\n",
    "from sklearn.preprocessing import FunctionTransformer, OneHotEncoder, PolynomialFeatures, StandardScaler, RobustScaler\n",
    "from sklearn.pipeline import make_pipeline\n",
    "from sklearn.linear_model import LinearRegression, Ridge, Lasso\n",
    "from sklearn.neighbors import KNeighborsRegressor\n",
    "from sklearn.tree import DecisionTreeRegressor\n",
    "from sklearn.ensemble import RandomForestRegressor\n",
    "from sklearn.svm import LinearSVR\n",
    "from sklearn.neural_network import MLPRegressor\n",
    "from sklearn import metrics"
   ]
  },
  {
   "cell_type": "code",
   "execution_count": 2,
   "id": "fd086f3d",
   "metadata": {},
   "outputs": [],
   "source": [
    "# load dataset\n",
    "trip_data = yellowcab.io.read_all_files('parquet')"
   ]
  },
  {
   "cell_type": "code",
   "execution_count": 3,
   "id": "af75984c",
   "metadata": {},
   "outputs": [],
   "source": [
    "# this cell can be removed after the associated issue is fixed\n",
    "trip_data = trip_data[trip_data[\"trip_distance\"] > 0]"
   ]
  },
  {
   "cell_type": "code",
   "execution_count": 4,
   "id": "795ab6b1",
   "metadata": {},
   "outputs": [],
   "source": [
    "known = ['passenger_count', 'trip_distance', 'PULocationID',\n",
    "         'start_month', 'start_day', 'start_hour', 'start_week', 'weekend', 'weekday',\n",
    "         'start_location_long', 'start_location_lat', \n",
    "         'PUBorough', 'PUservice_zone']\n",
    "\n",
    "numerical_features = ['passenger_count', 'start_month', 'start_day', \n",
    "                      'start_hour', 'start_week', \n",
    "                      'start_location_long', 'start_location_lat']\n",
    "\n",
    "categorical_features = ['PULocationID', 'PUBorough', 'PUservice_zone',\n",
    "                        'weekend', 'weekday']\n",
    "\n",
    "predict = [\"trip_distance\"]"
   ]
  },
  {
   "cell_type": "code",
   "execution_count": 5,
   "id": "3cd298a5",
   "metadata": {},
   "outputs": [],
   "source": [
    "# trip_data = trip_data.sample(100)"
   ]
  },
  {
   "cell_type": "code",
   "execution_count": 6,
   "id": "339cf1fb",
   "metadata": {},
   "outputs": [],
   "source": [
    "X = trip_data[known].drop(columns=predict)\n",
    "y = trip_data[predict]"
   ]
  },
  {
   "cell_type": "code",
   "execution_count": 7,
   "id": "e95bc136",
   "metadata": {},
   "outputs": [],
   "source": [
    "X_train, X_test, y_train, y_test = train_test_split(X, y, test_size=0.2,random_state=42)"
   ]
  },
  {
   "cell_type": "markdown",
   "id": "bcc22e93",
   "metadata": {},
   "source": [
    "### MLPR"
   ]
  },
  {
   "cell_type": "code",
   "execution_count": 8,
   "id": "ed1e4489",
   "metadata": {},
   "outputs": [],
   "source": [
    "mlp = yellowcab.model.training_pipe(numerical_features, categorical_features, degree=1, regressor=MLPRegressor(verbose=True))"
   ]
  },
  {
   "cell_type": "code",
   "execution_count": 9,
   "id": "b24dde0e",
   "metadata": {},
   "outputs": [
    {
     "name": "stdout",
     "output_type": "stream",
     "text": [
      "2021-06-14 00:11:38.302841\n"
     ]
    }
   ],
   "source": [
    "print(datetime.now())"
   ]
  },
  {
   "cell_type": "code",
   "execution_count": 10,
   "id": "c9e1fbd4",
   "metadata": {},
   "outputs": [
    {
     "name": "stdout",
     "output_type": "stream",
     "text": [
      "Iteration 1, loss = 5.43363324\n",
      "Iteration 2, loss = 5.38129239\n",
      "Iteration 3, loss = 5.37183425\n",
      "Iteration 4, loss = 5.36633096\n",
      "Iteration 5, loss = 5.36131347\n",
      "Iteration 6, loss = 5.35689601\n",
      "Iteration 7, loss = 5.35381643\n",
      "Iteration 8, loss = 5.35142261\n",
      "Iteration 9, loss = 5.34888317\n",
      "Iteration 10, loss = 5.34758280\n",
      "Iteration 11, loss = 5.34745270\n",
      "Iteration 12, loss = 5.34609568\n",
      "Iteration 13, loss = 5.34510373\n",
      "Iteration 14, loss = 5.34460938\n",
      "Iteration 15, loss = 5.34408962\n",
      "Iteration 16, loss = 5.34386627\n",
      "Iteration 17, loss = 5.34308738\n",
      "Iteration 18, loss = 5.34263319\n",
      "Iteration 19, loss = 5.34257556\n",
      "Iteration 20, loss = 5.34236386\n",
      "Iteration 21, loss = 5.34229219\n",
      "Iteration 22, loss = 5.34209162\n",
      "Iteration 23, loss = 5.34201297\n",
      "Iteration 24, loss = 5.34168680\n",
      "Iteration 25, loss = 5.34160808\n",
      "Iteration 26, loss = 5.34130070\n",
      "Iteration 27, loss = 5.34129378\n",
      "Iteration 28, loss = 5.34141071\n",
      "Iteration 29, loss = 5.34115927\n",
      "Iteration 30, loss = 5.34083783\n",
      "Iteration 31, loss = 5.34084784\n",
      "Iteration 32, loss = 5.34051104\n",
      "Iteration 33, loss = 5.34057960\n",
      "Iteration 34, loss = 5.34093753\n",
      "Iteration 35, loss = 5.34089385\n",
      "Iteration 36, loss = 5.34103753\n",
      "Iteration 37, loss = 5.34104743\n",
      "Iteration 38, loss = 5.34143652\n",
      "Iteration 39, loss = 5.34129012\n",
      "Iteration 40, loss = 5.34149091\n",
      "Iteration 41, loss = 5.34112779\n",
      "Iteration 42, loss = 5.34151849\n",
      "Iteration 43, loss = 5.34163883\n",
      "Training loss did not improve more than tol=0.000100 for 10 consecutive epochs. Stopping.\n"
     ]
    }
   ],
   "source": [
    "mlp = mlp.fit(X_train, y_train.to_numpy().ravel())"
   ]
  },
  {
   "cell_type": "code",
   "execution_count": 11,
   "id": "a64097f1",
   "metadata": {},
   "outputs": [
    {
     "name": "stdout",
     "output_type": "stream",
     "text": [
      "2021-06-14 06:36:40.195518\n"
     ]
    }
   ],
   "source": [
    "print(datetime.now())"
   ]
  },
  {
   "cell_type": "code",
   "execution_count": 12,
   "id": "5b9d3b79",
   "metadata": {},
   "outputs": [],
   "source": [
    "mlp_result = yellowcab.model.test_regression_model(mlp, X_train, X_test, y_train, y_test)"
   ]
  },
  {
   "cell_type": "code",
   "execution_count": 13,
   "id": "06c0b102",
   "metadata": {},
   "outputs": [
    {
     "data": {
      "text/html": [
       "<div>\n",
       "<style scoped>\n",
       "    .dataframe tbody tr th:only-of-type {\n",
       "        vertical-align: middle;\n",
       "    }\n",
       "\n",
       "    .dataframe tbody tr th {\n",
       "        vertical-align: top;\n",
       "    }\n",
       "\n",
       "    .dataframe thead th {\n",
       "        text-align: right;\n",
       "    }\n",
       "</style>\n",
       "<table border=\"1\" class=\"dataframe\">\n",
       "  <thead>\n",
       "    <tr style=\"text-align: right;\">\n",
       "      <th></th>\n",
       "      <th>Training set</th>\n",
       "      <th>Test set</th>\n",
       "    </tr>\n",
       "  </thead>\n",
       "  <tbody>\n",
       "    <tr>\n",
       "      <th>RSME</th>\n",
       "      <td>3.264188</td>\n",
       "      <td>3.250417</td>\n",
       "    </tr>\n",
       "    <tr>\n",
       "      <th>MAE</th>\n",
       "      <td>2.012045</td>\n",
       "      <td>2.012100</td>\n",
       "    </tr>\n",
       "  </tbody>\n",
       "</table>\n",
       "</div>"
      ],
      "text/plain": [
       "      Training set  Test set\n",
       "RSME      3.264188  3.250417\n",
       "MAE       2.012045  2.012100"
      ]
     },
     "execution_count": 13,
     "metadata": {},
     "output_type": "execute_result"
    }
   ],
   "source": [
    "mlp_result"
   ]
  },
  {
   "cell_type": "code",
   "execution_count": 14,
   "id": "b1375bff",
   "metadata": {},
   "outputs": [],
   "source": [
    "yellowcab.io.save_model(\"s1_trip_distance_mlp\", mlp)"
   ]
  },
  {
   "cell_type": "markdown",
   "id": "0669434c",
   "metadata": {},
   "source": [
    "### Lasso with degree 5 and alpha 0.001"
   ]
  },
  {
   "cell_type": "code",
   "execution_count": 11,
   "id": "35077c94",
   "metadata": {},
   "outputs": [],
   "source": [
    "lasso = yellowcab.model.training_pipe(numerical_features, categorical_features, degree=4, regressor=Lasso(alpha=0.001))"
   ]
  },
  {
   "cell_type": "code",
   "execution_count": 12,
   "id": "714090f9",
   "metadata": {},
   "outputs": [
    {
     "name": "stdout",
     "output_type": "stream",
     "text": [
      "2021-06-14 14:36:14.669834\n"
     ]
    }
   ],
   "source": [
    "print(datetime.now())"
   ]
  },
  {
   "cell_type": "code",
   "execution_count": null,
   "id": "1d3bfdab",
   "metadata": {},
   "outputs": [],
   "source": [
    "lasoo = lasso.fit(X_train, y_train)"
   ]
  },
  {
   "cell_type": "code",
   "execution_count": null,
   "id": "d67955cc",
   "metadata": {},
   "outputs": [],
   "source": [
    "print(datetime.now())"
   ]
  },
  {
   "cell_type": "code",
   "execution_count": null,
   "id": "813acd21",
   "metadata": {},
   "outputs": [],
   "source": [
    "lasso_result = yellowcab.model.test_regression_model(lasoo, X_train, X_test, y_train, y_test)"
   ]
  },
  {
   "cell_type": "markdown",
   "id": "c5d91119",
   "metadata": {},
   "source": [
    "### RFR"
   ]
  },
  {
   "cell_type": "code",
   "execution_count": null,
   "id": "92033633",
   "metadata": {},
   "outputs": [],
   "source": [
    "# random_forest = yellowcab.model.training_pipe(numerical_features, categorical_features, degree=1, regressor=RandomForestRegressor(max_depth=100))"
   ]
  },
  {
   "cell_type": "code",
   "execution_count": null,
   "id": "8087b684",
   "metadata": {},
   "outputs": [],
   "source": [
    "# print(datetime.now())"
   ]
  },
  {
   "cell_type": "code",
   "execution_count": null,
   "id": "6d2467df",
   "metadata": {},
   "outputs": [],
   "source": [
    "# random_forest = random_forest.fit(X_train, y_train)"
   ]
  },
  {
   "cell_type": "code",
   "execution_count": null,
   "id": "46968a3b",
   "metadata": {},
   "outputs": [],
   "source": [
    "# print(datetime.now())"
   ]
  },
  {
   "cell_type": "code",
   "execution_count": null,
   "id": "0780988c",
   "metadata": {},
   "outputs": [],
   "source": [
    "# forest_result = yellowcab.model.test_regression_model(random_forest, X_train, X_test, y_train, y_test)"
   ]
  },
  {
   "cell_type": "code",
   "execution_count": null,
   "id": "e9b6e20b",
   "metadata": {},
   "outputs": [],
   "source": [
    "# forest_result"
   ]
  }
 ],
 "metadata": {
  "kernelspec": {
   "display_name": "Python 3",
   "language": "python",
   "name": "python3"
  },
  "language_info": {
   "codemirror_mode": {
    "name": "ipython",
    "version": 3
   },
   "file_extension": ".py",
   "mimetype": "text/x-python",
   "name": "python",
   "nbconvert_exporter": "python",
   "pygments_lexer": "ipython3",
   "version": "3.8.10"
  }
 },
 "nbformat": 4,
 "nbformat_minor": 5
}
