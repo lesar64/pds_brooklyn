{
 "cells": [
  {
   "cell_type": "code",
   "execution_count": 9,
   "id": "treated-township",
   "metadata": {},
   "outputs": [],
   "source": [
    "import yellowcab\n",
    "import pandas as pd\n",
    "import os\n",
    "import pickle\n",
    "from pathlib import Path\n",
    "import geopandas as gpd\n",
    "from pandas_profiling import ProfileReport"
   ]
  },
  {
   "cell_type": "code",
   "execution_count": 14,
   "id": "frozen-captain",
   "metadata": {
    "scrolled": true
   },
   "outputs": [
    {
     "data": {
      "text/html": [
       "<div>\n",
       "<style scoped>\n",
       "    .dataframe tbody tr th:only-of-type {\n",
       "        vertical-align: middle;\n",
       "    }\n",
       "\n",
       "    .dataframe tbody tr th {\n",
       "        vertical-align: top;\n",
       "    }\n",
       "\n",
       "    .dataframe thead th {\n",
       "        text-align: right;\n",
       "    }\n",
       "</style>\n",
       "<table border=\"1\" class=\"dataframe\">\n",
       "  <thead>\n",
       "    <tr style=\"text-align: right;\">\n",
       "      <th></th>\n",
       "      <th>tpep_pickup_datetime</th>\n",
       "      <th>tpep_dropoff_datetime</th>\n",
       "      <th>passenger_count</th>\n",
       "      <th>trip_distance</th>\n",
       "      <th>RatecodeID</th>\n",
       "      <th>PULocationID</th>\n",
       "      <th>DOLocationID</th>\n",
       "      <th>payment_type</th>\n",
       "      <th>fare_amount</th>\n",
       "      <th>extra</th>\n",
       "      <th>mta_tax</th>\n",
       "      <th>tip_amount</th>\n",
       "      <th>tolls_amount</th>\n",
       "      <th>improvement_surcharge</th>\n",
       "      <th>total_amount</th>\n",
       "      <th>congestion_surcharge</th>\n",
       "    </tr>\n",
       "  </thead>\n",
       "  <tbody>\n",
       "    <tr>\n",
       "      <th>9</th>\n",
       "      <td>2020-01-01 00:29:01</td>\n",
       "      <td>2020-01-01 00:40:28</td>\n",
       "      <td>2.0</td>\n",
       "      <td>0.70</td>\n",
       "      <td>1.0</td>\n",
       "      <td>246</td>\n",
       "      <td>48</td>\n",
       "      <td>1.0</td>\n",
       "      <td>8.0</td>\n",
       "      <td>3.0</td>\n",
       "      <td>0.5</td>\n",
       "      <td>2.35</td>\n",
       "      <td>0.0</td>\n",
       "      <td>0.3</td>\n",
       "      <td>14.15</td>\n",
       "      <td>2.5</td>\n",
       "    </tr>\n",
       "    <tr>\n",
       "      <th>10</th>\n",
       "      <td>2020-01-01 00:55:11</td>\n",
       "      <td>2020-01-01 01:12:03</td>\n",
       "      <td>2.0</td>\n",
       "      <td>2.40</td>\n",
       "      <td>1.0</td>\n",
       "      <td>246</td>\n",
       "      <td>79</td>\n",
       "      <td>1.0</td>\n",
       "      <td>12.0</td>\n",
       "      <td>3.0</td>\n",
       "      <td>0.5</td>\n",
       "      <td>1.75</td>\n",
       "      <td>0.0</td>\n",
       "      <td>0.3</td>\n",
       "      <td>17.55</td>\n",
       "      <td>2.5</td>\n",
       "    </tr>\n",
       "    <tr>\n",
       "      <th>14</th>\n",
       "      <td>2020-01-01 00:38:01</td>\n",
       "      <td>2020-01-01 01:15:21</td>\n",
       "      <td>1.0</td>\n",
       "      <td>7.76</td>\n",
       "      <td>1.0</td>\n",
       "      <td>143</td>\n",
       "      <td>25</td>\n",
       "      <td>1.0</td>\n",
       "      <td>28.5</td>\n",
       "      <td>0.5</td>\n",
       "      <td>0.5</td>\n",
       "      <td>4.84</td>\n",
       "      <td>0.0</td>\n",
       "      <td>0.3</td>\n",
       "      <td>37.14</td>\n",
       "      <td>2.5</td>\n",
       "    </tr>\n",
       "    <tr>\n",
       "      <th>16</th>\n",
       "      <td>2020-01-01 00:41:20</td>\n",
       "      <td>2020-01-01 00:44:22</td>\n",
       "      <td>1.0</td>\n",
       "      <td>0.50</td>\n",
       "      <td>1.0</td>\n",
       "      <td>234</td>\n",
       "      <td>90</td>\n",
       "      <td>1.0</td>\n",
       "      <td>4.0</td>\n",
       "      <td>3.0</td>\n",
       "      <td>0.5</td>\n",
       "      <td>1.00</td>\n",
       "      <td>0.0</td>\n",
       "      <td>0.3</td>\n",
       "      <td>8.80</td>\n",
       "      <td>2.5</td>\n",
       "    </tr>\n",
       "    <tr>\n",
       "      <th>18</th>\n",
       "      <td>2020-01-01 00:08:21</td>\n",
       "      <td>2020-01-01 00:25:29</td>\n",
       "      <td>1.0</td>\n",
       "      <td>8.45</td>\n",
       "      <td>1.0</td>\n",
       "      <td>138</td>\n",
       "      <td>216</td>\n",
       "      <td>2.0</td>\n",
       "      <td>24.5</td>\n",
       "      <td>0.5</td>\n",
       "      <td>0.5</td>\n",
       "      <td>0.00</td>\n",
       "      <td>0.0</td>\n",
       "      <td>0.3</td>\n",
       "      <td>25.80</td>\n",
       "      <td>0.0</td>\n",
       "    </tr>\n",
       "    <tr>\n",
       "      <th>...</th>\n",
       "      <td>...</td>\n",
       "      <td>...</td>\n",
       "      <td>...</td>\n",
       "      <td>...</td>\n",
       "      <td>...</td>\n",
       "      <td>...</td>\n",
       "      <td>...</td>\n",
       "      <td>...</td>\n",
       "      <td>...</td>\n",
       "      <td>...</td>\n",
       "      <td>...</td>\n",
       "      <td>...</td>\n",
       "      <td>...</td>\n",
       "      <td>...</td>\n",
       "      <td>...</td>\n",
       "      <td>...</td>\n",
       "    </tr>\n",
       "    <tr>\n",
       "      <th>1362434</th>\n",
       "      <td>2020-12-31 23:40:13</td>\n",
       "      <td>2020-12-31 23:46:39</td>\n",
       "      <td>3.0</td>\n",
       "      <td>0.82</td>\n",
       "      <td>1.0</td>\n",
       "      <td>164</td>\n",
       "      <td>68</td>\n",
       "      <td>2.0</td>\n",
       "      <td>6.0</td>\n",
       "      <td>0.5</td>\n",
       "      <td>0.5</td>\n",
       "      <td>0.00</td>\n",
       "      <td>0.0</td>\n",
       "      <td>0.3</td>\n",
       "      <td>9.80</td>\n",
       "      <td>2.5</td>\n",
       "    </tr>\n",
       "    <tr>\n",
       "      <th>1362435</th>\n",
       "      <td>2020-12-31 22:55:17</td>\n",
       "      <td>2020-12-31 23:01:28</td>\n",
       "      <td>1.0</td>\n",
       "      <td>1.83</td>\n",
       "      <td>1.0</td>\n",
       "      <td>144</td>\n",
       "      <td>90</td>\n",
       "      <td>1.0</td>\n",
       "      <td>7.0</td>\n",
       "      <td>0.5</td>\n",
       "      <td>0.5</td>\n",
       "      <td>2.16</td>\n",
       "      <td>0.0</td>\n",
       "      <td>0.3</td>\n",
       "      <td>12.96</td>\n",
       "      <td>2.5</td>\n",
       "    </tr>\n",
       "    <tr>\n",
       "      <th>1362436</th>\n",
       "      <td>2020-12-31 23:05:33</td>\n",
       "      <td>2020-12-31 23:31:36</td>\n",
       "      <td>1.0</td>\n",
       "      <td>11.30</td>\n",
       "      <td>1.0</td>\n",
       "      <td>107</td>\n",
       "      <td>242</td>\n",
       "      <td>2.0</td>\n",
       "      <td>33.0</td>\n",
       "      <td>0.5</td>\n",
       "      <td>0.5</td>\n",
       "      <td>0.00</td>\n",
       "      <td>0.0</td>\n",
       "      <td>0.3</td>\n",
       "      <td>36.80</td>\n",
       "      <td>2.5</td>\n",
       "    </tr>\n",
       "    <tr>\n",
       "      <th>1362438</th>\n",
       "      <td>2020-12-31 23:40:35</td>\n",
       "      <td>2020-12-31 23:48:43</td>\n",
       "      <td>1.0</td>\n",
       "      <td>2.52</td>\n",
       "      <td>1.0</td>\n",
       "      <td>236</td>\n",
       "      <td>24</td>\n",
       "      <td>1.0</td>\n",
       "      <td>9.5</td>\n",
       "      <td>0.5</td>\n",
       "      <td>0.5</td>\n",
       "      <td>4.00</td>\n",
       "      <td>0.0</td>\n",
       "      <td>0.3</td>\n",
       "      <td>17.30</td>\n",
       "      <td>2.5</td>\n",
       "    </tr>\n",
       "    <tr>\n",
       "      <th>1362440</th>\n",
       "      <td>2020-12-31 23:11:16</td>\n",
       "      <td>2020-12-31 23:24:08</td>\n",
       "      <td>1.0</td>\n",
       "      <td>6.06</td>\n",
       "      <td>1.0</td>\n",
       "      <td>75</td>\n",
       "      <td>169</td>\n",
       "      <td>2.0</td>\n",
       "      <td>18.5</td>\n",
       "      <td>0.5</td>\n",
       "      <td>0.5</td>\n",
       "      <td>0.00</td>\n",
       "      <td>0.0</td>\n",
       "      <td>0.3</td>\n",
       "      <td>19.80</td>\n",
       "      <td>0.0</td>\n",
       "    </tr>\n",
       "  </tbody>\n",
       "</table>\n",
       "<p>7620574 rows × 16 columns</p>\n",
       "</div>"
      ],
      "text/plain": [
       "        tpep_pickup_datetime tpep_dropoff_datetime  passenger_count  \\\n",
       "9        2020-01-01 00:29:01   2020-01-01 00:40:28              2.0   \n",
       "10       2020-01-01 00:55:11   2020-01-01 01:12:03              2.0   \n",
       "14       2020-01-01 00:38:01   2020-01-01 01:15:21              1.0   \n",
       "16       2020-01-01 00:41:20   2020-01-01 00:44:22              1.0   \n",
       "18       2020-01-01 00:08:21   2020-01-01 00:25:29              1.0   \n",
       "...                      ...                   ...              ...   \n",
       "1362434  2020-12-31 23:40:13   2020-12-31 23:46:39              3.0   \n",
       "1362435  2020-12-31 22:55:17   2020-12-31 23:01:28              1.0   \n",
       "1362436  2020-12-31 23:05:33   2020-12-31 23:31:36              1.0   \n",
       "1362438  2020-12-31 23:40:35   2020-12-31 23:48:43              1.0   \n",
       "1362440  2020-12-31 23:11:16   2020-12-31 23:24:08              1.0   \n",
       "\n",
       "         trip_distance  RatecodeID  PULocationID  DOLocationID  payment_type  \\\n",
       "9                 0.70         1.0           246            48           1.0   \n",
       "10                2.40         1.0           246            79           1.0   \n",
       "14                7.76         1.0           143            25           1.0   \n",
       "16                0.50         1.0           234            90           1.0   \n",
       "18                8.45         1.0           138           216           2.0   \n",
       "...                ...         ...           ...           ...           ...   \n",
       "1362434           0.82         1.0           164            68           2.0   \n",
       "1362435           1.83         1.0           144            90           1.0   \n",
       "1362436          11.30         1.0           107           242           2.0   \n",
       "1362438           2.52         1.0           236            24           1.0   \n",
       "1362440           6.06         1.0            75           169           2.0   \n",
       "\n",
       "         fare_amount  extra  mta_tax  tip_amount  tolls_amount  \\\n",
       "9                8.0    3.0      0.5        2.35           0.0   \n",
       "10              12.0    3.0      0.5        1.75           0.0   \n",
       "14              28.5    0.5      0.5        4.84           0.0   \n",
       "16               4.0    3.0      0.5        1.00           0.0   \n",
       "18              24.5    0.5      0.5        0.00           0.0   \n",
       "...              ...    ...      ...         ...           ...   \n",
       "1362434          6.0    0.5      0.5        0.00           0.0   \n",
       "1362435          7.0    0.5      0.5        2.16           0.0   \n",
       "1362436         33.0    0.5      0.5        0.00           0.0   \n",
       "1362438          9.5    0.5      0.5        4.00           0.0   \n",
       "1362440         18.5    0.5      0.5        0.00           0.0   \n",
       "\n",
       "         improvement_surcharge  total_amount  congestion_surcharge  \n",
       "9                          0.3         14.15                   2.5  \n",
       "10                         0.3         17.55                   2.5  \n",
       "14                         0.3         37.14                   2.5  \n",
       "16                         0.3          8.80                   2.5  \n",
       "18                         0.3         25.80                   0.0  \n",
       "...                        ...           ...                   ...  \n",
       "1362434                    0.3          9.80                   2.5  \n",
       "1362435                    0.3         12.96                   2.5  \n",
       "1362436                    0.3         36.80                   2.5  \n",
       "1362438                    0.3         17.30                   2.5  \n",
       "1362440                    0.3         19.80                   0.0  \n",
       "\n",
       "[7620574 rows x 16 columns]"
      ]
     },
     "execution_count": 14,
     "metadata": {},
     "output_type": "execute_result"
    }
   ],
   "source": [
    "trip_data = yellowcab.io.read_all_files(\"parquet\")\n",
    "trip_data_bro = yellowcab.io.filter_brooklyn(trip_data)\n",
    "trip_data_bro"
   ]
  },
  {
   "cell_type": "code",
   "execution_count": 16,
   "id": "coupled-directory",
   "metadata": {},
   "outputs": [
    {
     "data": {
      "application/vnd.jupyter.widget-view+json": {
       "model_id": "e80c2566b6f6437ba1140e8836a2f7df",
       "version_major": 2,
       "version_minor": 0
      },
      "text/plain": [
       "Summarize dataset:   0%|          | 0/30 [00:00<?, ?it/s]"
      ]
     },
     "metadata": {},
     "output_type": "display_data"
    },
    {
     "name": "stderr",
     "output_type": "stream",
     "text": [
      "C:\\Users\\Christian\\anaconda3\\envs\\PDS21\\lib\\site-packages\\scipy\\stats\\stats.py:4594: RuntimeWarning: overflow encountered in longlong_scalars\n",
      "  (2 * xtie * ytie) / m + x0 * y0 / (9 * m * (size - 2)))\n"
     ]
    },
    {
     "data": {
      "application/vnd.jupyter.widget-view+json": {
       "model_id": "72bb4096810a4d2aa36aa0ef605476c6",
       "version_major": 2,
       "version_minor": 0
      },
      "text/plain": [
       "Generate report structure:   0%|          | 0/1 [00:00<?, ?it/s]"
      ]
     },
     "metadata": {},
     "output_type": "display_data"
    },
    {
     "data": {
      "application/vnd.jupyter.widget-view+json": {
       "model_id": "",
       "version_major": 2,
       "version_minor": 0
      },
      "text/plain": [
       "Render widgets:   0%|          | 0/1 [00:00<?, ?it/s]"
      ]
     },
     "metadata": {},
     "output_type": "display_data"
    },
    {
     "data": {
      "application/vnd.jupyter.widget-view+json": {
       "model_id": "9ab45ee03fec4021b4a19a39ec1013cb",
       "version_major": 2,
       "version_minor": 0
      },
      "text/plain": [
       "VBox(children=(Tab(children=(Tab(children=(GridBox(children=(VBox(children=(GridspecLayout(children=(HTML(valu…"
      ]
     },
     "metadata": {},
     "output_type": "display_data"
    }
   ],
   "source": [
    "profile = ProfileReport(trip_data_bro, explorative=True)\n",
    "profile.to_widgets()"
   ]
  },
  {
   "cell_type": "code",
   "execution_count": 17,
   "id": "earlier-tattoo",
   "metadata": {},
   "outputs": [
    {
     "data": {
      "application/vnd.jupyter.widget-view+json": {
       "model_id": "35369ee17872488e9b1cc1bda347f219",
       "version_major": 2,
       "version_minor": 0
      },
      "text/plain": [
       "Render HTML:   0%|          | 0/1 [00:00<?, ?it/s]"
      ]
     },
     "metadata": {},
     "output_type": "display_data"
    },
    {
     "data": {
      "application/vnd.jupyter.widget-view+json": {
       "model_id": "7dfd9d570c3d40549b1331d84289ac3b",
       "version_major": 2,
       "version_minor": 0
      },
      "text/plain": [
       "Export report to file:   0%|          | 0/1 [00:00<?, ?it/s]"
      ]
     },
     "metadata": {},
     "output_type": "display_data"
    }
   ],
   "source": [
    "profile.to_file(\"../data/output/report.html\")"
   ]
  },
  {
   "cell_type": "code",
   "execution_count": null,
   "id": "mediterranean-lightning",
   "metadata": {},
   "outputs": [],
   "source": []
  }
 ],
 "metadata": {
  "kernelspec": {
   "display_name": "Python 3",
   "language": "python",
   "name": "python3"
  },
  "language_info": {
   "codemirror_mode": {
    "name": "ipython",
    "version": 3
   },
   "file_extension": ".py",
   "mimetype": "text/x-python",
   "name": "python",
   "nbconvert_exporter": "python",
   "pygments_lexer": "ipython3",
   "version": "3.9.4"
  }
 },
 "nbformat": 4,
 "nbformat_minor": 5
}
