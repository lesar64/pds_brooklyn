{
 "cells": [
  {
   "cell_type": "code",
   "execution_count": 1,
   "metadata": {},
   "outputs": [
    {
     "name": "stdout",
     "output_type": "stream",
     "text": [
      "Obtaining file:///C:/Users/Selman/Documents/GitHub/pds_brooklyn\n",
      "Requirement already satisfied: pandas in c:\\users\\selman\\miniconda3\\envs\\pds21\\lib\\site-packages (from yellowcab==0.0.1.dev1) (1.2.4)\n",
      "Requirement already satisfied: click in c:\\users\\selman\\miniconda3\\envs\\pds21\\lib\\site-packages (from yellowcab==0.0.1.dev1) (7.1.2)\n",
      "Requirement already satisfied: scikit-learn in c:\\users\\selman\\miniconda3\\envs\\pds21\\lib\\site-packages (from yellowcab==0.0.1.dev1) (0.24.1)\n",
      "Requirement already satisfied: geopandas in c:\\users\\selman\\miniconda3\\envs\\pds21\\lib\\site-packages (from yellowcab==0.0.1.dev1) (0.9.0)\n",
      "Collecting folium\n",
      "  Using cached folium-0.12.1-py2.py3-none-any.whl (94 kB)\n",
      "Collecting pyarrow\n",
      "  Using cached pyarrow-4.0.0-cp39-cp39-win_amd64.whl (13.3 MB)\n",
      "Requirement already satisfied: matplotlib in c:\\users\\selman\\miniconda3\\envs\\pds21\\lib\\site-packages (from yellowcab==0.0.1.dev1) (3.3.4)\n",
      "Requirement already satisfied: numpy in c:\\users\\selman\\miniconda3\\envs\\pds21\\lib\\site-packages (from yellowcab==0.0.1.dev1) (1.20.2+mkl)\n",
      "Requirement already satisfied: setuptools in c:\\users\\selman\\miniconda3\\envs\\pds21\\lib\\site-packages (from yellowcab==0.0.1.dev1) (52.0.0.post20210125)\n",
      "Requirement already satisfied: requests in c:\\users\\selman\\miniconda3\\envs\\pds21\\lib\\site-packages (from folium->yellowcab==0.0.1.dev1) (2.25.1)\n",
      "Requirement already satisfied: jinja2>=2.9 in c:\\users\\selman\\miniconda3\\envs\\pds21\\lib\\site-packages (from folium->yellowcab==0.0.1.dev1) (2.11.3)\n",
      "Collecting branca>=0.3.0\n",
      "  Using cached branca-0.4.2-py3-none-any.whl (24 kB)\n",
      "Requirement already satisfied: MarkupSafe>=0.23 in c:\\users\\selman\\miniconda3\\envs\\pds21\\lib\\site-packages (from jinja2>=2.9->folium->yellowcab==0.0.1.dev1) (1.1.1)\n",
      "Requirement already satisfied: pyproj>=2.2.0 in c:\\users\\selman\\miniconda3\\envs\\pds21\\lib\\site-packages (from geopandas->yellowcab==0.0.1.dev1) (3.0.1)\n",
      "Requirement already satisfied: shapely>=1.6 in c:\\users\\selman\\miniconda3\\envs\\pds21\\lib\\site-packages (from geopandas->yellowcab==0.0.1.dev1) (1.7.1)\n",
      "Requirement already satisfied: fiona>=1.8 in c:\\users\\selman\\miniconda3\\envs\\pds21\\lib\\site-packages (from geopandas->yellowcab==0.0.1.dev1) (1.8.19)\n",
      "Requirement already satisfied: cligj>=0.5 in c:\\users\\selman\\miniconda3\\envs\\pds21\\lib\\site-packages (from fiona>=1.8->geopandas->yellowcab==0.0.1.dev1) (0.7.1)\n",
      "Requirement already satisfied: click-plugins>=1.0 in c:\\users\\selman\\miniconda3\\envs\\pds21\\lib\\site-packages (from fiona>=1.8->geopandas->yellowcab==0.0.1.dev1) (1.1.1)\n",
      "Requirement already satisfied: munch in c:\\users\\selman\\miniconda3\\envs\\pds21\\lib\\site-packages (from fiona>=1.8->geopandas->yellowcab==0.0.1.dev1) (2.5.0)\n",
      "Requirement already satisfied: certifi in c:\\users\\selman\\miniconda3\\envs\\pds21\\lib\\site-packages (from fiona>=1.8->geopandas->yellowcab==0.0.1.dev1) (2020.12.5)\n",
      "Requirement already satisfied: gdal~=3.2.1 in c:\\users\\selman\\miniconda3\\envs\\pds21\\lib\\site-packages (from fiona>=1.8->geopandas->yellowcab==0.0.1.dev1) (3.2.2)\n",
      "Requirement already satisfied: attrs>=17 in c:\\users\\selman\\miniconda3\\envs\\pds21\\lib\\site-packages (from fiona>=1.8->geopandas->yellowcab==0.0.1.dev1) (20.3.0)\n",
      "Requirement already satisfied: six>=1.7 in c:\\users\\selman\\miniconda3\\envs\\pds21\\lib\\site-packages (from fiona>=1.8->geopandas->yellowcab==0.0.1.dev1) (1.15.0)\n",
      "Requirement already satisfied: pytz>=2017.3 in c:\\users\\selman\\miniconda3\\envs\\pds21\\lib\\site-packages (from pandas->yellowcab==0.0.1.dev1) (2021.1)\n",
      "Requirement already satisfied: python-dateutil>=2.7.3 in c:\\users\\selman\\miniconda3\\envs\\pds21\\lib\\site-packages (from pandas->yellowcab==0.0.1.dev1) (2.8.1)\n",
      "Requirement already satisfied: kiwisolver>=1.0.1 in c:\\users\\selman\\miniconda3\\envs\\pds21\\lib\\site-packages (from matplotlib->yellowcab==0.0.1.dev1) (1.3.1)\n",
      "Requirement already satisfied: cycler>=0.10 in c:\\users\\selman\\miniconda3\\envs\\pds21\\lib\\site-packages (from matplotlib->yellowcab==0.0.1.dev1) (0.10.0)\n",
      "Requirement already satisfied: pyparsing!=2.0.4,!=2.1.2,!=2.1.6,>=2.0.3 in c:\\users\\selman\\miniconda3\\envs\\pds21\\lib\\site-packages (from matplotlib->yellowcab==0.0.1.dev1) (2.4.7)\n",
      "Requirement already satisfied: pillow>=6.2.0 in c:\\users\\selman\\miniconda3\\envs\\pds21\\lib\\site-packages (from matplotlib->yellowcab==0.0.1.dev1) (8.2.0)\n",
      "Requirement already satisfied: chardet<5,>=3.0.2 in c:\\users\\selman\\miniconda3\\envs\\pds21\\lib\\site-packages (from requests->folium->yellowcab==0.0.1.dev1) (4.0.0)\n",
      "Requirement already satisfied: urllib3<1.27,>=1.21.1 in c:\\users\\selman\\miniconda3\\envs\\pds21\\lib\\site-packages (from requests->folium->yellowcab==0.0.1.dev1) (1.26.4)\n",
      "Requirement already satisfied: idna<3,>=2.5 in c:\\users\\selman\\miniconda3\\envs\\pds21\\lib\\site-packages (from requests->folium->yellowcab==0.0.1.dev1) (2.10)\n",
      "Requirement already satisfied: joblib>=0.11 in c:\\users\\selman\\miniconda3\\envs\\pds21\\lib\\site-packages (from scikit-learn->yellowcab==0.0.1.dev1) (1.0.1)\n",
      "Requirement already satisfied: scipy>=0.19.1 in c:\\users\\selman\\miniconda3\\envs\\pds21\\lib\\site-packages (from scikit-learn->yellowcab==0.0.1.dev1) (1.6.2)\n",
      "Requirement already satisfied: threadpoolctl>=2.0.0 in c:\\users\\selman\\miniconda3\\envs\\pds21\\lib\\site-packages (from scikit-learn->yellowcab==0.0.1.dev1) (2.1.0)\n",
      "Installing collected packages: branca, pyarrow, folium, yellowcab\n",
      "  Running setup.py develop for yellowcab\n",
      "Successfully installed branca-0.4.2 folium-0.12.1 pyarrow-4.0.0 yellowcab\n"
     ]
    }
   ],
   "source": [
    "!pip install -e .."
   ]
  },
  {
   "cell_type": "code",
   "execution_count": 2,
   "metadata": {},
   "outputs": [
    {
     "ename": "ModuleNotFoundError",
     "evalue": "No module named 'yellowcab'",
     "output_type": "error",
     "traceback": [
      "\u001b[1;31m---------------------------------------------------------------------------\u001b[0m",
      "\u001b[1;31mModuleNotFoundError\u001b[0m                       Traceback (most recent call last)",
      "\u001b[1;32m<ipython-input-2-a0c8b9b708d5>\u001b[0m in \u001b[0;36m<module>\u001b[1;34m\u001b[0m\n\u001b[1;32m----> 1\u001b[1;33m \u001b[1;32mimport\u001b[0m \u001b[0myellowcab\u001b[0m\u001b[1;33m\u001b[0m\u001b[1;33m\u001b[0m\u001b[0m\n\u001b[0m",
      "\u001b[1;31mModuleNotFoundError\u001b[0m: No module named 'yellowcab'"
     ]
    }
   ],
   "source": [
    "import yellowcab"
   ]
  },
  {
   "cell_type": "code",
   "execution_count": null,
   "metadata": {},
   "outputs": [],
   "source": []
  }
 ],
 "metadata": {
  "kernelspec": {
   "display_name": "Python 3",
   "language": "python",
   "name": "python3"
  },
  "language_info": {
   "codemirror_mode": {
    "name": "ipython",
    "version": 3
   },
   "file_extension": ".py",
   "mimetype": "text/x-python",
   "name": "python",
   "nbconvert_exporter": "python",
   "pygments_lexer": "ipython3",
   "version": "3.9.4"
  }
 },
 "nbformat": 4,
 "nbformat_minor": 4
}
